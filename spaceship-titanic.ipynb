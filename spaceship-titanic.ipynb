{
 "metadata": {
  "kernelspec": {
   "language": "python",
   "display_name": "Python 3",
   "name": "python3"
  },
  "language_info": {
   "name": "python",
   "version": "3.7.12",
   "mimetype": "text/x-python",
   "codemirror_mode": {
    "name": "ipython",
    "version": 3
   },
   "pygments_lexer": "ipython3",
   "nbconvert_exporter": "python",
   "file_extension": ".py"
  }
 },
 "nbformat_minor": 4,
 "nbformat": 4,
 "cells": [
  {
   "cell_type": "markdown",
   "source": [
    "# Approach\n",
    "### 1. Data cleaning/ Pre-Processing\n",
    "### 2. Exploratory Data Analysis\n",
    "### 3. Modelling \n",
    "\n",
    "***"
   ],
   "metadata": {}
  },
  {
   "cell_type": "markdown",
   "source": [
    "# Importing suitable libraries"
   ],
   "metadata": {}
  },
  {
   "cell_type": "code",
   "source": [
    "import numpy as np # math lol\n",
    "import pandas as pd # data processing, like-file I/O\n",
    "import matplotlib.pyplot as plt\n",
    "# will import further when needed"
   ],
   "metadata": {
    "_uuid": "8f2839f25d086af736a60e9eeb907d3b93b6e0e5",
    "_cell_guid": "b1076dfc-b9ad-4769-8c92-a6c4dae69d19",
    "execution": {
     "iopub.status.busy": "2023-03-11T16:19:52.889975Z",
     "iopub.execute_input": "2023-03-11T16:19:52.890443Z",
     "iopub.status.idle": "2023-03-11T16:19:52.896093Z",
     "shell.execute_reply.started": "2023-03-11T16:19:52.890400Z",
     "shell.execute_reply": "2023-03-11T16:19:52.894879Z"
    },
    "trusted": true
   },
   "execution_count": 475,
   "outputs": []
  },
  {
   "cell_type": "code",
   "source": [
    "import os\n",
    "for dirname, _, filenames in os.walk('/kaggle/input'):\n",
    "    for filename in filenames:\n",
    "        print(os.path.join(dirname, filename))\n",
    "        \n",
    "train_data = pd.read_csv(\"/kaggle/input/spaceship-titanic/train.csv\")\n",
    "test_data = pd.read_csv(\"/kaggle/input/spaceship-titanic/test.csv\")"
   ],
   "metadata": {
    "execution": {
     "iopub.status.busy": "2023-03-11T16:19:52.899407Z",
     "iopub.execute_input": "2023-03-11T16:19:52.899861Z",
     "iopub.status.idle": "2023-03-11T16:19:52.956046Z",
     "shell.execute_reply.started": "2023-03-11T16:19:52.899816Z",
     "shell.execute_reply": "2023-03-11T16:19:52.954775Z"
    },
    "trusted": true
   },
   "execution_count": 476,
   "outputs": [
    {
     "name": "stdout",
     "text": "/kaggle/input/spaceship-titanic/sample_submission.csv\n/kaggle/input/spaceship-titanic/train.csv\n/kaggle/input/spaceship-titanic/test.csv\n",
     "output_type": "stream"
    }
   ]
  },
  {
   "cell_type": "code",
   "source": [
    "# checking whether data read or not correctly\n",
    "# pandas head is used to return top n (5 by default) rows of a data\n",
    "print(len(train_data))\n",
    "train_data.head() "
   ],
   "metadata": {
    "execution": {
     "iopub.status.busy": "2023-03-11T16:19:52.957820Z",
     "iopub.execute_input": "2023-03-11T16:19:52.958551Z",
     "iopub.status.idle": "2023-03-11T16:19:52.978639Z",
     "shell.execute_reply.started": "2023-03-11T16:19:52.958501Z",
     "shell.execute_reply": "2023-03-11T16:19:52.977490Z"
    },
    "trusted": true
   },
   "execution_count": 477,
   "outputs": [
    {
     "name": "stdout",
     "text": "8693\n",
     "output_type": "stream"
    },
    {
     "execution_count": 477,
     "output_type": "execute_result",
     "data": {
      "text/plain": "  PassengerId HomePlanet CryoSleep  Cabin  Destination   Age    VIP  \\\n0     0001_01     Europa     False  B/0/P  TRAPPIST-1e 39.00  False   \n1     0002_01      Earth     False  F/0/S  TRAPPIST-1e 24.00  False   \n2     0003_01     Europa     False  A/0/S  TRAPPIST-1e 58.00   True   \n3     0003_02     Europa     False  A/0/S  TRAPPIST-1e 33.00  False   \n4     0004_01      Earth     False  F/1/S  TRAPPIST-1e 16.00  False   \n\n   RoomService  FoodCourt  ShoppingMall     Spa  VRDeck               Name  \\\n0         0.00       0.00          0.00    0.00    0.00    Maham Ofracculy   \n1       109.00       9.00         25.00  549.00   44.00       Juanna Vines   \n2        43.00    3576.00          0.00 6715.00   49.00      Altark Susent   \n3         0.00    1283.00        371.00 3329.00  193.00       Solam Susent   \n4       303.00      70.00        151.00  565.00    2.00  Willy Santantines   \n\n   Transported  \n0        False  \n1         True  \n2        False  \n3        False  \n4         True  ",
      "text/html": "<div>\n<style scoped>\n    .dataframe tbody tr th:only-of-type {\n        vertical-align: middle;\n    }\n\n    .dataframe tbody tr th {\n        vertical-align: top;\n    }\n\n    .dataframe thead th {\n        text-align: right;\n    }\n</style>\n<table border=\"1\" class=\"dataframe\">\n  <thead>\n    <tr style=\"text-align: right;\">\n      <th></th>\n      <th>PassengerId</th>\n      <th>HomePlanet</th>\n      <th>CryoSleep</th>\n      <th>Cabin</th>\n      <th>Destination</th>\n      <th>Age</th>\n      <th>VIP</th>\n      <th>RoomService</th>\n      <th>FoodCourt</th>\n      <th>ShoppingMall</th>\n      <th>Spa</th>\n      <th>VRDeck</th>\n      <th>Name</th>\n      <th>Transported</th>\n    </tr>\n  </thead>\n  <tbody>\n    <tr>\n      <th>0</th>\n      <td>0001_01</td>\n      <td>Europa</td>\n      <td>False</td>\n      <td>B/0/P</td>\n      <td>TRAPPIST-1e</td>\n      <td>39.00</td>\n      <td>False</td>\n      <td>0.00</td>\n      <td>0.00</td>\n      <td>0.00</td>\n      <td>0.00</td>\n      <td>0.00</td>\n      <td>Maham Ofracculy</td>\n      <td>False</td>\n    </tr>\n    <tr>\n      <th>1</th>\n      <td>0002_01</td>\n      <td>Earth</td>\n      <td>False</td>\n      <td>F/0/S</td>\n      <td>TRAPPIST-1e</td>\n      <td>24.00</td>\n      <td>False</td>\n      <td>109.00</td>\n      <td>9.00</td>\n      <td>25.00</td>\n      <td>549.00</td>\n      <td>44.00</td>\n      <td>Juanna Vines</td>\n      <td>True</td>\n    </tr>\n    <tr>\n      <th>2</th>\n      <td>0003_01</td>\n      <td>Europa</td>\n      <td>False</td>\n      <td>A/0/S</td>\n      <td>TRAPPIST-1e</td>\n      <td>58.00</td>\n      <td>True</td>\n      <td>43.00</td>\n      <td>3576.00</td>\n      <td>0.00</td>\n      <td>6715.00</td>\n      <td>49.00</td>\n      <td>Altark Susent</td>\n      <td>False</td>\n    </tr>\n    <tr>\n      <th>3</th>\n      <td>0003_02</td>\n      <td>Europa</td>\n      <td>False</td>\n      <td>A/0/S</td>\n      <td>TRAPPIST-1e</td>\n      <td>33.00</td>\n      <td>False</td>\n      <td>0.00</td>\n      <td>1283.00</td>\n      <td>371.00</td>\n      <td>3329.00</td>\n      <td>193.00</td>\n      <td>Solam Susent</td>\n      <td>False</td>\n    </tr>\n    <tr>\n      <th>4</th>\n      <td>0004_01</td>\n      <td>Earth</td>\n      <td>False</td>\n      <td>F/1/S</td>\n      <td>TRAPPIST-1e</td>\n      <td>16.00</td>\n      <td>False</td>\n      <td>303.00</td>\n      <td>70.00</td>\n      <td>151.00</td>\n      <td>565.00</td>\n      <td>2.00</td>\n      <td>Willy Santantines</td>\n      <td>True</td>\n    </tr>\n  </tbody>\n</table>\n</div>"
     },
     "metadata": {}
    }
   ]
  },
  {
   "cell_type": "markdown",
   "source": [
    "***\n",
    "# **1. DATA CLEANING/ PRE-PROCESSING**\n",
    "* Filling none,blank,empty values.\n",
    "* Encoding\n",
    "* Scaling\n",
    "* Splitting datasets\n",
    "* Checking accuracies with different models to choose one\n",
    "***"
   ],
   "metadata": {}
  },
  {
   "cell_type": "code",
   "source": [
    "train_data.info()"
   ],
   "metadata": {
    "execution": {
     "iopub.status.busy": "2023-03-11T16:19:52.980552Z",
     "iopub.execute_input": "2023-03-11T16:19:52.980991Z",
     "iopub.status.idle": "2023-03-11T16:19:53.002048Z",
     "shell.execute_reply.started": "2023-03-11T16:19:52.980947Z",
     "shell.execute_reply": "2023-03-11T16:19:53.000850Z"
    },
    "trusted": true
   },
   "execution_count": 478,
   "outputs": [
    {
     "name": "stdout",
     "text": "<class 'pandas.core.frame.DataFrame'>\nRangeIndex: 8693 entries, 0 to 8692\nData columns (total 14 columns):\n #   Column        Non-Null Count  Dtype  \n---  ------        --------------  -----  \n 0   PassengerId   8693 non-null   object \n 1   HomePlanet    8492 non-null   object \n 2   CryoSleep     8476 non-null   object \n 3   Cabin         8494 non-null   object \n 4   Destination   8511 non-null   object \n 5   Age           8514 non-null   float64\n 6   VIP           8490 non-null   object \n 7   RoomService   8512 non-null   float64\n 8   FoodCourt     8510 non-null   float64\n 9   ShoppingMall  8485 non-null   float64\n 10  Spa           8510 non-null   float64\n 11  VRDeck        8505 non-null   float64\n 12  Name          8493 non-null   object \n 13  Transported   8693 non-null   bool   \ndtypes: bool(1), float64(6), object(7)\nmemory usage: 891.5+ KB\n",
     "output_type": "stream"
    }
   ]
  },
  {
   "cell_type": "markdown",
   "source": [
    "### Which data is categorical and which is numerical"
   ],
   "metadata": {}
  },
  {
   "cell_type": "code",
   "source": [
    "print(\"** CATEGORICAL DATA **\")\n",
    "categorical = train_data.select_dtypes(include=['object']).columns\n",
    "for col in categorical:\n",
    "    print(col)"
   ],
   "metadata": {
    "execution": {
     "iopub.status.busy": "2023-03-11T16:19:53.005820Z",
     "iopub.execute_input": "2023-03-11T16:19:53.006251Z",
     "iopub.status.idle": "2023-03-11T16:19:53.016302Z",
     "shell.execute_reply.started": "2023-03-11T16:19:53.006212Z",
     "shell.execute_reply": "2023-03-11T16:19:53.014846Z"
    },
    "trusted": true
   },
   "execution_count": 479,
   "outputs": [
    {
     "name": "stdout",
     "text": "** CATEGORICAL DATA **\nPassengerId\nHomePlanet\nCryoSleep\nCabin\nDestination\nVIP\nName\n",
     "output_type": "stream"
    }
   ]
  },
  {
   "cell_type": "code",
   "source": [
    "print(\"** NUMERICAL DATA **\")\n",
    "numerical = train_data._get_numeric_data().columns\n",
    "for col in numerical:\n",
    "    print(col)"
   ],
   "metadata": {
    "execution": {
     "iopub.status.busy": "2023-03-11T16:19:53.017957Z",
     "iopub.execute_input": "2023-03-11T16:19:53.018396Z",
     "iopub.status.idle": "2023-03-11T16:19:53.026213Z",
     "shell.execute_reply.started": "2023-03-11T16:19:53.018349Z",
     "shell.execute_reply": "2023-03-11T16:19:53.025017Z"
    },
    "trusted": true
   },
   "execution_count": 480,
   "outputs": [
    {
     "name": "stdout",
     "text": "** NUMERICAL DATA **\nAge\nRoomService\nFoodCourt\nShoppingMall\nSpa\nVRDeck\nTransported\n",
     "output_type": "stream"
    }
   ]
  },
  {
   "cell_type": "markdown",
   "source": [
    "### Finding null values"
   ],
   "metadata": {}
  },
  {
   "cell_type": "code",
   "source": [
    "# Iterating over the columns and printing the percentage of null values present in train_data\n",
    "for col in train_data.columns:\n",
    "    percent = str((100 * train_data[col].isnull().sum()/len(train_data))) + \"%\"\n",
    "    print(col,percent)"
   ],
   "metadata": {
    "execution": {
     "iopub.status.busy": "2023-03-11T16:19:53.027773Z",
     "iopub.execute_input": "2023-03-11T16:19:53.028260Z",
     "iopub.status.idle": "2023-03-11T16:19:53.048329Z",
     "shell.execute_reply.started": "2023-03-11T16:19:53.028215Z",
     "shell.execute_reply": "2023-03-11T16:19:53.047029Z"
    },
    "trusted": true
   },
   "execution_count": 481,
   "outputs": [
    {
     "name": "stdout",
     "text": "PassengerId 0.0%\nHomePlanet 2.312205222592891%\nCryoSleep 2.496261359714713%\nCabin 2.289198205452663%\nDestination 2.093638559760727%\nAge 2.0591280340503855%\nVIP 2.3352122397331185%\nRoomService 2.082135051190613%\nFoodCourt 2.105142068330841%\nShoppingMall 2.392729782583688%\nSpa 2.105142068330841%\nVRDeck 2.1626596111814105%\nName 2.300701714022777%\nTransported 0.0%\n",
     "output_type": "stream"
    }
   ]
  },
  {
   "cell_type": "markdown",
   "source": [
    "### Methods to handle null values in data\n",
    "1. Remove all rows with null value in it.\n",
    "2. Fill them with mean/median/mode."
   ],
   "metadata": {}
  },
  {
   "cell_type": "code",
   "source": [
    "\"\"\"\n",
    "REMOVING ROWS\n",
    "for col in train_data.columns:\n",
    "    train_data.dropna(subset=[col], inplace=True)\n",
    "print(len(train_data))\n",
    "\"\"\""
   ],
   "metadata": {
    "execution": {
     "iopub.status.busy": "2023-03-11T16:19:53.050299Z",
     "iopub.execute_input": "2023-03-11T16:19:53.050808Z",
     "iopub.status.idle": "2023-03-11T16:19:53.059209Z",
     "shell.execute_reply.started": "2023-03-11T16:19:53.050752Z",
     "shell.execute_reply": "2023-03-11T16:19:53.057997Z"
    },
    "trusted": true
   },
   "execution_count": 482,
   "outputs": [
    {
     "execution_count": 482,
     "output_type": "execute_result",
     "data": {
      "text/plain": "'\\nREMOVING ROWS\\nfor col in train_data.columns:\\n    train_data.dropna(subset=[col], inplace=True)\\nprint(len(train_data))\\n'"
     },
     "metadata": {}
    }
   ]
  },
  {
   "cell_type": "markdown",
   "source": [
    "We'll go with filling them with mean/median/mode(for numerical values) and with mode(for categorical values), because after removing we're only left  with 6606 out of 8693 entries, and tbh that's quite a lot of entries to remove."
   ],
   "metadata": {}
  },
  {
   "cell_type": "code",
   "source": [
    "# for categorical values\n",
    "for col in categorical:\n",
    "    if col!=\"Name\":\n",
    "        train_data[col] = train_data[col].fillna(train_data[col].mode()[0])"
   ],
   "metadata": {
    "execution": {
     "iopub.status.busy": "2023-03-11T16:19:53.060702Z",
     "iopub.execute_input": "2023-03-11T16:19:53.061169Z",
     "iopub.status.idle": "2023-03-11T16:19:53.092192Z",
     "shell.execute_reply.started": "2023-03-11T16:19:53.061122Z",
     "shell.execute_reply": "2023-03-11T16:19:53.091131Z"
    },
    "trusted": true
   },
   "execution_count": 483,
   "outputs": []
  },
  {
   "cell_type": "code",
   "source": [
    "for col in categorical:\n",
    "    print(col, train_data[col].isnull().sum())"
   ],
   "metadata": {
    "execution": {
     "iopub.status.busy": "2023-03-11T16:19:53.094003Z",
     "iopub.execute_input": "2023-03-11T16:19:53.094466Z",
     "iopub.status.idle": "2023-03-11T16:19:53.105555Z",
     "shell.execute_reply.started": "2023-03-11T16:19:53.094418Z",
     "shell.execute_reply": "2023-03-11T16:19:53.104444Z"
    },
    "trusted": true
   },
   "execution_count": 484,
   "outputs": [
    {
     "name": "stdout",
     "text": "PassengerId 0\nHomePlanet 0\nCryoSleep 0\nCabin 0\nDestination 0\nVIP 0\nName 200\n",
     "output_type": "stream"
    }
   ]
  },
  {
   "cell_type": "code",
   "source": [
    "print(\"** NUMERICAL DATA **\")\n",
    "numerical = train_data._get_numeric_data().columns\n",
    "for col in numerical:\n",
    "    print(col)"
   ],
   "metadata": {
    "execution": {
     "iopub.status.busy": "2023-03-11T16:19:53.111326Z",
     "iopub.execute_input": "2023-03-11T16:19:53.111922Z",
     "iopub.status.idle": "2023-03-11T16:19:53.119463Z",
     "shell.execute_reply.started": "2023-03-11T16:19:53.111876Z",
     "shell.execute_reply": "2023-03-11T16:19:53.118188Z"
    },
    "trusted": true
   },
   "execution_count": 485,
   "outputs": [
    {
     "name": "stdout",
     "text": "** NUMERICAL DATA **\nCryoSleep\nAge\nVIP\nRoomService\nFoodCourt\nShoppingMall\nSpa\nVRDeck\nTransported\n",
     "output_type": "stream"
    }
   ]
  },
  {
   "cell_type": "markdown",
   "source": [
    "### For numerical data"
   ],
   "metadata": {}
  },
  {
   "cell_type": "code",
   "source": [
    "plt.hist(train_data[\"Age\"])"
   ],
   "metadata": {
    "execution": {
     "iopub.status.busy": "2023-03-11T16:19:53.121359Z",
     "iopub.execute_input": "2023-03-11T16:19:53.121805Z",
     "iopub.status.idle": "2023-03-11T16:19:53.414102Z",
     "shell.execute_reply.started": "2023-03-11T16:19:53.121762Z",
     "shell.execute_reply": "2023-03-11T16:19:53.412979Z"
    },
    "trusted": true
   },
   "execution_count": 486,
   "outputs": [
    {
     "execution_count": 486,
     "output_type": "execute_result",
     "data": {
      "text/plain": "(array([ 591.,  649., 2089., 1976., 1350.,  893.,  536.,  294.,  106.,\n          30.]),\n array([ 0. ,  7.9, 15.8, 23.7, 31.6, 39.5, 47.4, 55.3, 63.2, 71.1, 79. ]),\n <BarContainer object of 10 artists>)"
     },
     "metadata": {}
    },
    {
     "output_type": "display_data",
     "data": {
      "text/plain": "<Figure size 640x480 with 1 Axes>",
      "image/png": "[encoded data removed]"
     },
     "metadata": {}
    }
   ]
  },
  {
   "cell_type": "code",
   "source": [
    "plt.hist(train_data[\"RoomService\"])"
   ],
   "metadata": {
    "execution": {
     "iopub.status.busy": "2023-03-11T16:19:53.415738Z",
     "iopub.execute_input": "2023-03-11T16:19:53.416066Z",
     "iopub.status.idle": "2023-03-11T16:19:53.690763Z",
     "shell.execute_reply.started": "2023-03-11T16:19:53.416034Z",
     "shell.execute_reply": "2023-03-11T16:19:53.689660Z"
    },
    "trusted": true
   },
   "execution_count": 487,
   "outputs": [
    {
     "execution_count": 487,
     "output_type": "execute_result",
     "data": {
      "text/plain": "(array([8.156e+03, 2.540e+02, 6.500e+01, 1.700e+01, 9.000e+00, 9.000e+00,\n        1.000e+00, 0.000e+00, 0.000e+00, 1.000e+00]),\n array([    0. ,  1432.7,  2865.4,  4298.1,  5730.8,  7163.5,  8596.2,\n        10028.9, 11461.6, 12894.3, 14327. ]),\n <BarContainer object of 10 artists>)"
     },
     "metadata": {}
    },
    {
     "output_type": "display_data",
     "data": {
      "text/plain": "<Figure size 640x480 with 1 Axes>",
      "image/png": "[encoded data removed]"
     },
     "metadata": {}
    }
   ]
  },
  {
   "cell_type": "code",
   "source": [
    "plt.hist(train_data[\"FoodCourt\"])"
   ],
   "metadata": {
    "execution": {
     "iopub.status.busy": "2023-03-11T16:19:53.692511Z",
     "iopub.execute_input": "2023-03-11T16:19:53.693287Z",
     "iopub.status.idle": "2023-03-11T16:19:53.965407Z",
     "shell.execute_reply.started": "2023-03-11T16:19:53.693238Z",
     "shell.execute_reply": "2023-03-11T16:19:53.964187Z"
    },
    "trusted": true
   },
   "execution_count": 488,
   "outputs": [
    {
     "execution_count": 488,
     "output_type": "execute_result",
     "data": {
      "text/plain": "(array([8.114e+03, 2.500e+02, 8.000e+01, 3.400e+01, 1.500e+01, 9.000e+00,\n        3.000e+00, 1.000e+00, 1.000e+00, 3.000e+00]),\n array([    0. ,  2981.3,  5962.6,  8943.9, 11925.2, 14906.5, 17887.8,\n        20869.1, 23850.4, 26831.7, 29813. ]),\n <BarContainer object of 10 artists>)"
     },
     "metadata": {}
    },
    {
     "output_type": "display_data",
     "data": {
      "text/plain": "<Figure size 640x480 with 1 Axes>",
      "image/png": "[encoded data removed]"
     },
     "metadata": {}
    }
   ]
  },
  {
   "cell_type": "markdown",
   "source": [
    "### Seeing histograms of some numerical fields, it seems more efficient to use mean instead of mode as fields like age represents a normal distribution"
   ],
   "metadata": {}
  },
  {
   "cell_type": "code",
   "source": [
    "for num_col in numerical:\n",
    "    train_data[num_col] = train_data[num_col].fillna(train_data[num_col].mean())"
   ],
   "metadata": {
    "execution": {
     "iopub.status.busy": "2023-03-11T16:19:53.967320Z",
     "iopub.execute_input": "2023-03-11T16:19:53.967786Z",
     "iopub.status.idle": "2023-03-11T16:19:53.979882Z",
     "shell.execute_reply.started": "2023-03-11T16:19:53.967739Z",
     "shell.execute_reply": "2023-03-11T16:19:53.978899Z"
    },
    "trusted": true
   },
   "execution_count": 489,
   "outputs": []
  },
  {
   "cell_type": "code",
   "source": [
    "for num_col in numerical:\n",
    "    print(num_col, train_data[num_col].isnull().sum())"
   ],
   "metadata": {
    "execution": {
     "iopub.status.busy": "2023-03-11T16:19:53.984022Z",
     "iopub.execute_input": "2023-03-11T16:19:53.984359Z",
     "iopub.status.idle": "2023-03-11T16:19:53.993020Z",
     "shell.execute_reply.started": "2023-03-11T16:19:53.984327Z",
     "shell.execute_reply": "2023-03-11T16:19:53.991829Z"
    },
    "trusted": true
   },
   "execution_count": 490,
   "outputs": [
    {
     "name": "stdout",
     "text": "CryoSleep 0\nAge 0\nVIP 0\nRoomService 0\nFoodCourt 0\nShoppingMall 0\nSpa 0\nVRDeck 0\nTransported 0\n",
     "output_type": "stream"
    }
   ]
  },
  {
   "cell_type": "markdown",
   "source": [
    "***\n",
    "Now removing unique columns such as passengerId as they don't affect the outcome"
   ],
   "metadata": {}
  },
  {
   "cell_type": "code",
   "source": [
    "train1 = train_data"
   ],
   "metadata": {
    "execution": {
     "iopub.status.busy": "2023-03-11T16:19:53.994645Z",
     "iopub.execute_input": "2023-03-11T16:19:53.994987Z",
     "iopub.status.idle": "2023-03-11T16:19:54.003816Z",
     "shell.execute_reply.started": "2023-03-11T16:19:53.994949Z",
     "shell.execute_reply": "2023-03-11T16:19:54.002783Z"
    },
    "trusted": true
   },
   "execution_count": 491,
   "outputs": []
  },
  {
   "cell_type": "code",
   "source": [
    "train1 = train_data.drop(columns = [\"PassengerId\",\"Cabin\",\"Destination\",\"Transported\",\"Name\"])\n",
    "train1.head()"
   ],
   "metadata": {
    "execution": {
     "iopub.status.busy": "2023-03-11T16:19:54.004992Z",
     "iopub.execute_input": "2023-03-11T16:19:54.005266Z",
     "iopub.status.idle": "2023-03-11T16:19:54.024473Z",
     "shell.execute_reply.started": "2023-03-11T16:19:54.005238Z",
     "shell.execute_reply": "2023-03-11T16:19:54.023196Z"
    },
    "trusted": true
   },
   "execution_count": 492,
   "outputs": [
    {
     "execution_count": 492,
     "output_type": "execute_result",
     "data": {
      "text/plain": "  HomePlanet  CryoSleep   Age    VIP  RoomService  FoodCourt  ShoppingMall  \\\n0     Europa      False 39.00  False         0.00       0.00          0.00   \n1      Earth      False 24.00  False       109.00       9.00         25.00   \n2     Europa      False 58.00   True        43.00    3576.00          0.00   \n3     Europa      False 33.00  False         0.00    1283.00        371.00   \n4      Earth      False 16.00  False       303.00      70.00        151.00   \n\n      Spa  VRDeck  \n0    0.00    0.00  \n1  549.00   44.00  \n2 6715.00   49.00  \n3 3329.00  193.00  \n4  565.00    2.00  ",
      "text/html": "<div>\n<style scoped>\n    .dataframe tbody tr th:only-of-type {\n        vertical-align: middle;\n    }\n\n    .dataframe tbody tr th {\n        vertical-align: top;\n    }\n\n    .dataframe thead th {\n        text-align: right;\n    }\n</style>\n<table border=\"1\" class=\"dataframe\">\n  <thead>\n    <tr style=\"text-align: right;\">\n      <th></th>\n      <th>HomePlanet</th>\n      <th>CryoSleep</th>\n      <th>Age</th>\n      <th>VIP</th>\n      <th>RoomService</th>\n      <th>FoodCourt</th>\n      <th>ShoppingMall</th>\n      <th>Spa</th>\n      <th>VRDeck</th>\n    </tr>\n  </thead>\n  <tbody>\n    <tr>\n      <th>0</th>\n      <td>Europa</td>\n      <td>False</td>\n      <td>39.00</td>\n      <td>False</td>\n      <td>0.00</td>\n      <td>0.00</td>\n      <td>0.00</td>\n      <td>0.00</td>\n      <td>0.00</td>\n    </tr>\n    <tr>\n      <th>1</th>\n      <td>Earth</td>\n      <td>False</td>\n      <td>24.00</td>\n      <td>False</td>\n      <td>109.00</td>\n      <td>9.00</td>\n      <td>25.00</td>\n      <td>549.00</td>\n      <td>44.00</td>\n    </tr>\n    <tr>\n      <th>2</th>\n      <td>Europa</td>\n      <td>False</td>\n      <td>58.00</td>\n      <td>True</td>\n      <td>43.00</td>\n      <td>3576.00</td>\n      <td>0.00</td>\n      <td>6715.00</td>\n      <td>49.00</td>\n    </tr>\n    <tr>\n      <th>3</th>\n      <td>Europa</td>\n      <td>False</td>\n      <td>33.00</td>\n      <td>False</td>\n      <td>0.00</td>\n      <td>1283.00</td>\n      <td>371.00</td>\n      <td>3329.00</td>\n      <td>193.00</td>\n    </tr>\n    <tr>\n      <th>4</th>\n      <td>Earth</td>\n      <td>False</td>\n      <td>16.00</td>\n      <td>False</td>\n      <td>303.00</td>\n      <td>70.00</td>\n      <td>151.00</td>\n      <td>565.00</td>\n      <td>2.00</td>\n    </tr>\n  </tbody>\n</table>\n</div>"
     },
     "metadata": {}
    }
   ]
  },
  {
   "cell_type": "markdown",
   "source": [
    "***\n",
    "Encoding categorical to numerical"
   ],
   "metadata": {}
  },
  {
   "cell_type": "code",
   "source": [
    "from sklearn.preprocessing import LabelEncoder"
   ],
   "metadata": {
    "execution": {
     "iopub.status.busy": "2023-03-11T16:19:54.025635Z",
     "iopub.execute_input": "2023-03-11T16:19:54.025910Z",
     "iopub.status.idle": "2023-03-11T16:19:54.033947Z",
     "shell.execute_reply.started": "2023-03-11T16:19:54.025882Z",
     "shell.execute_reply": "2023-03-11T16:19:54.032745Z"
    },
    "trusted": true
   },
   "execution_count": 493,
   "outputs": []
  },
  {
   "cell_type": "code",
   "source": [
    "columns = list(train1.columns)\n",
    "columns"
   ],
   "metadata": {
    "execution": {
     "iopub.status.busy": "2023-03-11T16:19:54.035190Z",
     "iopub.execute_input": "2023-03-11T16:19:54.035472Z",
     "iopub.status.idle": "2023-03-11T16:19:54.052246Z",
     "shell.execute_reply.started": "2023-03-11T16:19:54.035443Z",
     "shell.execute_reply": "2023-03-11T16:19:54.051452Z"
    },
    "trusted": true
   },
   "execution_count": 494,
   "outputs": [
    {
     "execution_count": 494,
     "output_type": "execute_result",
     "data": {
      "text/plain": "['HomePlanet',\n 'CryoSleep',\n 'Age',\n 'VIP',\n 'RoomService',\n 'FoodCourt',\n 'ShoppingMall',\n 'Spa',\n 'VRDeck']"
     },
     "metadata": {}
    }
   ]
  },
  {
   "cell_type": "code",
   "source": [
    "label_encoder = LabelEncoder()\n",
    "for i in columns:\n",
    "    if train1[i].dtype != \"int32\":\n",
    "        if train1[i].dtype != \"float64\":\n",
    "            train1[i] = label_encoder.fit_transform(train1[i])\n",
    "\n",
    "train1.head()"
   ],
   "metadata": {
    "execution": {
     "iopub.status.busy": "2023-03-11T16:19:54.053460Z",
     "iopub.execute_input": "2023-03-11T16:19:54.053772Z",
     "iopub.status.idle": "2023-03-11T16:19:54.075410Z",
     "shell.execute_reply.started": "2023-03-11T16:19:54.053741Z",
     "shell.execute_reply": "2023-03-11T16:19:54.074637Z"
    },
    "trusted": true
   },
   "execution_count": 495,
   "outputs": [
    {
     "execution_count": 495,
     "output_type": "execute_result",
     "data": {
      "text/plain": "   HomePlanet  CryoSleep   Age  VIP  RoomService  FoodCourt  ShoppingMall  \\\n0           1          0 39.00    0         0.00       0.00          0.00   \n1           0          0 24.00    0       109.00       9.00         25.00   \n2           1          0 58.00    1        43.00    3576.00          0.00   \n3           1          0 33.00    0         0.00    1283.00        371.00   \n4           0          0 16.00    0       303.00      70.00        151.00   \n\n      Spa  VRDeck  \n0    0.00    0.00  \n1  549.00   44.00  \n2 6715.00   49.00  \n3 3329.00  193.00  \n4  565.00    2.00  ",
      "text/html": "<div>\n<style scoped>\n    .dataframe tbody tr th:only-of-type {\n        vertical-align: middle;\n    }\n\n    .dataframe tbody tr th {\n        vertical-align: top;\n    }\n\n    .dataframe thead th {\n        text-align: right;\n    }\n</style>\n<table border=\"1\" class=\"dataframe\">\n  <thead>\n    <tr style=\"text-align: right;\">\n      <th></th>\n      <th>HomePlanet</th>\n      <th>CryoSleep</th>\n      <th>Age</th>\n      <th>VIP</th>\n      <th>RoomService</th>\n      <th>FoodCourt</th>\n      <th>ShoppingMall</th>\n      <th>Spa</th>\n      <th>VRDeck</th>\n    </tr>\n  </thead>\n  <tbody>\n    <tr>\n      <th>0</th>\n      <td>1</td>\n      <td>0</td>\n      <td>39.00</td>\n      <td>0</td>\n      <td>0.00</td>\n      <td>0.00</td>\n      <td>0.00</td>\n      <td>0.00</td>\n      <td>0.00</td>\n    </tr>\n    <tr>\n      <th>1</th>\n      <td>0</td>\n      <td>0</td>\n      <td>24.00</td>\n      <td>0</td>\n      <td>109.00</td>\n      <td>9.00</td>\n      <td>25.00</td>\n      <td>549.00</td>\n      <td>44.00</td>\n    </tr>\n    <tr>\n      <th>2</th>\n      <td>1</td>\n      <td>0</td>\n      <td>58.00</td>\n      <td>1</td>\n      <td>43.00</td>\n      <td>3576.00</td>\n      <td>0.00</td>\n      <td>6715.00</td>\n      <td>49.00</td>\n    </tr>\n    <tr>\n      <th>3</th>\n      <td>1</td>\n      <td>0</td>\n      <td>33.00</td>\n      <td>0</td>\n      <td>0.00</td>\n      <td>1283.00</td>\n      <td>371.00</td>\n      <td>3329.00</td>\n      <td>193.00</td>\n    </tr>\n    <tr>\n      <th>4</th>\n      <td>0</td>\n      <td>0</td>\n      <td>16.00</td>\n      <td>0</td>\n      <td>303.00</td>\n      <td>70.00</td>\n      <td>151.00</td>\n      <td>565.00</td>\n      <td>2.00</td>\n    </tr>\n  </tbody>\n</table>\n</div>"
     },
     "metadata": {}
    }
   ]
  },
  {
   "cell_type": "markdown",
   "source": [
    "***\n",
    "### Applying standard scaler\n",
    "because variables that are measured at different scales do not contribute equally to the model fitting & model learned function and might end up creating a bias. "
   ],
   "metadata": {}
  },
  {
   "cell_type": "code",
   "source": [
    "from sklearn.preprocessing import StandardScaler"
   ],
   "metadata": {
    "execution": {
     "iopub.status.busy": "2023-03-11T16:19:54.076459Z",
     "iopub.execute_input": "2023-03-11T16:19:54.077335Z",
     "iopub.status.idle": "2023-03-11T16:19:54.082204Z",
     "shell.execute_reply.started": "2023-03-11T16:19:54.077289Z",
     "shell.execute_reply": "2023-03-11T16:19:54.081110Z"
    },
    "trusted": true
   },
   "execution_count": 496,
   "outputs": []
  },
  {
   "cell_type": "code",
   "source": [
    "standard = StandardScaler()\n",
    "x = standard.fit_transform(train1)"
   ],
   "metadata": {
    "execution": {
     "iopub.status.busy": "2023-03-11T16:19:54.083433Z",
     "iopub.execute_input": "2023-03-11T16:19:54.083733Z",
     "iopub.status.idle": "2023-03-11T16:19:54.097429Z",
     "shell.execute_reply.started": "2023-03-11T16:19:54.083705Z",
     "shell.execute_reply": "2023-03-11T16:19:54.096645Z"
    },
    "trusted": true
   },
   "execution_count": 497,
   "outputs": []
  },
  {
   "cell_type": "code",
   "source": [
    "train2 = pd.DataFrame(x,columns = [columns])\n",
    "train2.head()"
   ],
   "metadata": {
    "execution": {
     "iopub.status.busy": "2023-03-11T16:19:54.098644Z",
     "iopub.execute_input": "2023-03-11T16:19:54.099137Z",
     "iopub.status.idle": "2023-03-11T16:19:54.121007Z",
     "shell.execute_reply.started": "2023-03-11T16:19:54.099104Z",
     "shell.execute_reply": "2023-03-11T16:19:54.120001Z"
    },
    "trusted": true
   },
   "execution_count": 498,
   "outputs": [
    {
     "execution_count": 498,
     "output_type": "execute_result",
     "data": {
      "text/plain": "  HomePlanet CryoSleep   Age   VIP RoomService FoodCourt ShoppingMall   Spa  \\\n0       0.44     -0.73  0.71 -0.15       -0.34     -0.29        -0.29 -0.28   \n1      -0.82     -0.73 -0.34 -0.15       -0.18     -0.28        -0.25  0.21   \n2       0.44     -0.73  2.03  6.53       -0.28      1.96        -0.29  5.69   \n3       0.44     -0.73  0.29 -0.15       -0.34      0.52         0.33  2.68   \n4      -0.82     -0.73 -0.89 -0.15        0.12     -0.24        -0.04  0.23   \n\n  VRDeck  \n0  -0.27  \n1  -0.23  \n2  -0.23  \n3  -0.10  \n4  -0.27  ",
      "text/html": "<div>\n<style scoped>\n    .dataframe tbody tr th:only-of-type {\n        vertical-align: middle;\n    }\n\n    .dataframe tbody tr th {\n        vertical-align: top;\n    }\n\n    .dataframe thead tr th {\n        text-align: left;\n    }\n</style>\n<table border=\"1\" class=\"dataframe\">\n  <thead>\n    <tr>\n      <th></th>\n      <th>HomePlanet</th>\n      <th>CryoSleep</th>\n      <th>Age</th>\n      <th>VIP</th>\n      <th>RoomService</th>\n      <th>FoodCourt</th>\n      <th>ShoppingMall</th>\n      <th>Spa</th>\n      <th>VRDeck</th>\n    </tr>\n  </thead>\n  <tbody>\n    <tr>\n      <th>0</th>\n      <td>0.44</td>\n      <td>-0.73</td>\n      <td>0.71</td>\n      <td>-0.15</td>\n      <td>-0.34</td>\n      <td>-0.29</td>\n      <td>-0.29</td>\n      <td>-0.28</td>\n      <td>-0.27</td>\n    </tr>\n    <tr>\n      <th>1</th>\n      <td>-0.82</td>\n      <td>-0.73</td>\n      <td>-0.34</td>\n      <td>-0.15</td>\n      <td>-0.18</td>\n      <td>-0.28</td>\n      <td>-0.25</td>\n      <td>0.21</td>\n      <td>-0.23</td>\n    </tr>\n    <tr>\n      <th>2</th>\n      <td>0.44</td>\n      <td>-0.73</td>\n      <td>2.03</td>\n      <td>6.53</td>\n      <td>-0.28</td>\n      <td>1.96</td>\n      <td>-0.29</td>\n      <td>5.69</td>\n      <td>-0.23</td>\n    </tr>\n    <tr>\n      <th>3</th>\n      <td>0.44</td>\n      <td>-0.73</td>\n      <td>0.29</td>\n      <td>-0.15</td>\n      <td>-0.34</td>\n      <td>0.52</td>\n      <td>0.33</td>\n      <td>2.68</td>\n      <td>-0.10</td>\n    </tr>\n    <tr>\n      <th>4</th>\n      <td>-0.82</td>\n      <td>-0.73</td>\n      <td>-0.89</td>\n      <td>-0.15</td>\n      <td>0.12</td>\n      <td>-0.24</td>\n      <td>-0.04</td>\n      <td>0.23</td>\n      <td>-0.27</td>\n    </tr>\n  </tbody>\n</table>\n</div>"
     },
     "metadata": {}
    }
   ]
  },
  {
   "cell_type": "markdown",
   "source": [
    "***\n",
    "Splitting our dateset to train and test data"
   ],
   "metadata": {}
  },
  {
   "cell_type": "code",
   "source": [
    "from sklearn.model_selection import train_test_split\n",
    "x = train2\n",
    "y = train_data[\"Transported\"]"
   ],
   "metadata": {
    "execution": {
     "iopub.status.busy": "2023-03-11T16:19:54.122382Z",
     "iopub.execute_input": "2023-03-11T16:19:54.122679Z",
     "iopub.status.idle": "2023-03-11T16:19:54.130453Z",
     "shell.execute_reply.started": "2023-03-11T16:19:54.122649Z",
     "shell.execute_reply": "2023-03-11T16:19:54.129076Z"
    },
    "trusted": true
   },
   "execution_count": 499,
   "outputs": []
  },
  {
   "cell_type": "code",
   "source": [
    "x_train,x_test,y_train,y_test = train_test_split(x,y,test_size = .30,random_state= 45)"
   ],
   "metadata": {
    "execution": {
     "iopub.status.busy": "2023-03-11T16:19:54.132173Z",
     "iopub.execute_input": "2023-03-11T16:19:54.132470Z",
     "iopub.status.idle": "2023-03-11T16:19:54.144245Z",
     "shell.execute_reply.started": "2023-03-11T16:19:54.132441Z",
     "shell.execute_reply": "2023-03-11T16:19:54.143028Z"
    },
    "trusted": true
   },
   "execution_count": 500,
   "outputs": []
  },
  {
   "cell_type": "code",
   "source": [
    "x_test"
   ],
   "metadata": {
    "execution": {
     "iopub.status.busy": "2023-03-11T16:19:54.145815Z",
     "iopub.execute_input": "2023-03-11T16:19:54.146133Z",
     "iopub.status.idle": "2023-03-11T16:19:54.169859Z",
     "shell.execute_reply.started": "2023-03-11T16:19:54.146103Z",
     "shell.execute_reply": "2023-03-11T16:19:54.168882Z"
    },
    "trusted": true
   },
   "execution_count": 501,
   "outputs": [
    {
     "execution_count": 501,
     "output_type": "execute_result",
     "data": {
      "text/plain": "     HomePlanet CryoSleep   Age   VIP RoomService FoodCourt ShoppingMall  \\\n950       -0.82      1.36  2.03 -0.15       -0.34     -0.29        -0.29   \n5288      -0.82     -0.73 -0.34 -0.15       -0.34     -0.21         3.28   \n6780       0.44      1.36  0.22 -0.15       -0.34     -0.29        -0.29   \n8647      -0.82      1.36 -1.52 -0.15       -0.34     -0.29        -0.29   \n1870      -0.82     -0.73  0.08 -0.15        0.01     -0.29        -0.29   \n...         ...       ...   ...   ...         ...       ...          ...   \n2253      -0.82      1.36 -0.76 -0.15       -0.34     -0.29        -0.29   \n1956       1.70     -0.73 -0.76 -0.15       -0.30     -0.29         3.58   \n1638      -0.82      1.36  0.08 -0.15       -0.34     -0.29        -0.29   \n1624      -0.82      1.36 -0.62 -0.15       -0.34     -0.29        -0.29   \n908       -0.82     -0.73  1.55 -0.15        0.00      0.00        -0.28   \n\n       Spa VRDeck  \n950  -0.28  -0.27  \n5288 -0.28  -0.27  \n6780 -0.28  -0.27  \n8647 -0.28  -0.27  \n1870 -0.03  -0.25  \n...    ...    ...  \n2253 -0.28  -0.27  \n1956 -0.28  -0.27  \n1638 -0.28  -0.27  \n1624 -0.28  -0.27  \n908  -0.28  -0.27  \n\n[2608 rows x 9 columns]",
      "text/html": "<div>\n<style scoped>\n    .dataframe tbody tr th:only-of-type {\n        vertical-align: middle;\n    }\n\n    .dataframe tbody tr th {\n        vertical-align: top;\n    }\n\n    .dataframe thead tr th {\n        text-align: left;\n    }\n</style>\n<table border=\"1\" class=\"dataframe\">\n  <thead>\n    <tr>\n      <th></th>\n      <th>HomePlanet</th>\n      <th>CryoSleep</th>\n      <th>Age</th>\n      <th>VIP</th>\n      <th>RoomService</th>\n      <th>FoodCourt</th>\n      <th>ShoppingMall</th>\n      <th>Spa</th>\n      <th>VRDeck</th>\n    </tr>\n  </thead>\n  <tbody>\n    <tr>\n      <th>950</th>\n      <td>-0.82</td>\n      <td>1.36</td>\n      <td>2.03</td>\n      <td>-0.15</td>\n      <td>-0.34</td>\n      <td>-0.29</td>\n      <td>-0.29</td>\n      <td>-0.28</td>\n      <td>-0.27</td>\n    </tr>\n    <tr>\n      <th>5288</th>\n      <td>-0.82</td>\n      <td>-0.73</td>\n      <td>-0.34</td>\n      <td>-0.15</td>\n      <td>-0.34</td>\n      <td>-0.21</td>\n      <td>3.28</td>\n      <td>-0.28</td>\n      <td>-0.27</td>\n    </tr>\n    <tr>\n      <th>6780</th>\n      <td>0.44</td>\n      <td>1.36</td>\n      <td>0.22</td>\n      <td>-0.15</td>\n      <td>-0.34</td>\n      <td>-0.29</td>\n      <td>-0.29</td>\n      <td>-0.28</td>\n      <td>-0.27</td>\n    </tr>\n    <tr>\n      <th>8647</th>\n      <td>-0.82</td>\n      <td>1.36</td>\n      <td>-1.52</td>\n      <td>-0.15</td>\n      <td>-0.34</td>\n      <td>-0.29</td>\n      <td>-0.29</td>\n      <td>-0.28</td>\n      <td>-0.27</td>\n    </tr>\n    <tr>\n      <th>1870</th>\n      <td>-0.82</td>\n      <td>-0.73</td>\n      <td>0.08</td>\n      <td>-0.15</td>\n      <td>0.01</td>\n      <td>-0.29</td>\n      <td>-0.29</td>\n      <td>-0.03</td>\n      <td>-0.25</td>\n    </tr>\n    <tr>\n      <th>...</th>\n      <td>...</td>\n      <td>...</td>\n      <td>...</td>\n      <td>...</td>\n      <td>...</td>\n      <td>...</td>\n      <td>...</td>\n      <td>...</td>\n      <td>...</td>\n    </tr>\n    <tr>\n      <th>2253</th>\n      <td>-0.82</td>\n      <td>1.36</td>\n      <td>-0.76</td>\n      <td>-0.15</td>\n      <td>-0.34</td>\n      <td>-0.29</td>\n      <td>-0.29</td>\n      <td>-0.28</td>\n      <td>-0.27</td>\n    </tr>\n    <tr>\n      <th>1956</th>\n      <td>1.70</td>\n      <td>-0.73</td>\n      <td>-0.76</td>\n      <td>-0.15</td>\n      <td>-0.30</td>\n      <td>-0.29</td>\n      <td>3.58</td>\n      <td>-0.28</td>\n      <td>-0.27</td>\n    </tr>\n    <tr>\n      <th>1638</th>\n      <td>-0.82</td>\n      <td>1.36</td>\n      <td>0.08</td>\n      <td>-0.15</td>\n      <td>-0.34</td>\n      <td>-0.29</td>\n      <td>-0.29</td>\n      <td>-0.28</td>\n      <td>-0.27</td>\n    </tr>\n    <tr>\n      <th>1624</th>\n      <td>-0.82</td>\n      <td>1.36</td>\n      <td>-0.62</td>\n      <td>-0.15</td>\n      <td>-0.34</td>\n      <td>-0.29</td>\n      <td>-0.29</td>\n      <td>-0.28</td>\n      <td>-0.27</td>\n    </tr>\n    <tr>\n      <th>908</th>\n      <td>-0.82</td>\n      <td>-0.73</td>\n      <td>1.55</td>\n      <td>-0.15</td>\n      <td>0.00</td>\n      <td>0.00</td>\n      <td>-0.28</td>\n      <td>-0.28</td>\n      <td>-0.27</td>\n    </tr>\n  </tbody>\n</table>\n<p>2608 rows × 9 columns</p>\n</div>"
     },
     "metadata": {}
    }
   ]
  },
  {
   "cell_type": "markdown",
   "source": [
    "# 2. EDA and Visualisation\n",
    "***"
   ],
   "metadata": {}
  },
  {
   "cell_type": "markdown",
   "source": [
    "### Visualisation"
   ],
   "metadata": {}
  },
  {
   "cell_type": "code",
   "source": [
    "#seeing how many transported in train_data\n",
    "tot_trans = train_data['Transported'].value_counts()\n",
    "tot_trans"
   ],
   "metadata": {
    "execution": {
     "iopub.status.busy": "2023-03-11T16:19:54.176300Z",
     "iopub.execute_input": "2023-03-11T16:19:54.176652Z",
     "iopub.status.idle": "2023-03-11T16:19:54.184344Z",
     "shell.execute_reply.started": "2023-03-11T16:19:54.176619Z",
     "shell.execute_reply": "2023-03-11T16:19:54.183533Z"
    },
    "trusted": true
   },
   "execution_count": 502,
   "outputs": [
    {
     "execution_count": 502,
     "output_type": "execute_result",
     "data": {
      "text/plain": "True     4378\nFalse    4315\nName: Transported, dtype: int64"
     },
     "metadata": {}
    }
   ]
  },
  {
   "cell_type": "code",
   "source": [
    "percent_trans = str(100*tot_trans/len(train_data))\n",
    "print(percent_trans)"
   ],
   "metadata": {
    "execution": {
     "iopub.status.busy": "2023-03-11T16:19:54.185388Z",
     "iopub.execute_input": "2023-03-11T16:19:54.186409Z",
     "iopub.status.idle": "2023-03-11T16:19:54.197681Z",
     "shell.execute_reply.started": "2023-03-11T16:19:54.186374Z",
     "shell.execute_reply": "2023-03-11T16:19:54.196819Z"
    },
    "trusted": true
   },
   "execution_count": 503,
   "outputs": [
    {
     "name": "stdout",
     "text": "True    50.36\nFalse   49.64\nName: Transported, dtype: float64\n",
     "output_type": "stream"
    }
   ]
  },
  {
   "cell_type": "code",
   "source": [
    "train_data.describe()"
   ],
   "metadata": {
    "execution": {
     "iopub.status.busy": "2023-03-11T16:19:54.198600Z",
     "iopub.execute_input": "2023-03-11T16:19:54.198891Z",
     "iopub.status.idle": "2023-03-11T16:19:54.233162Z",
     "shell.execute_reply.started": "2023-03-11T16:19:54.198862Z",
     "shell.execute_reply": "2023-03-11T16:19:54.232007Z"
    },
    "trusted": true
   },
   "execution_count": 504,
   "outputs": [
    {
     "execution_count": 504,
     "output_type": "execute_result",
     "data": {
      "text/plain": "          Age  RoomService  FoodCourt  ShoppingMall      Spa   VRDeck\ncount 8693.00      8693.00    8693.00       8693.00  8693.00  8693.00\nmean    28.83       224.69     458.08        173.73   311.14   304.85\nstd     14.34       659.74    1594.43        597.42  1124.68  1133.26\nmin      0.00         0.00       0.00          0.00     0.00     0.00\n25%     20.00         0.00       0.00          0.00     0.00     0.00\n50%     27.00         0.00       0.00          0.00     0.00     0.00\n75%     37.00        78.00     118.00         45.00    89.00    71.00\nmax     79.00     14327.00   29813.00      23492.00 22408.00 24133.00",
      "text/html": "<div>\n<style scoped>\n    .dataframe tbody tr th:only-of-type {\n        vertical-align: middle;\n    }\n\n    .dataframe tbody tr th {\n        vertical-align: top;\n    }\n\n    .dataframe thead th {\n        text-align: right;\n    }\n</style>\n<table border=\"1\" class=\"dataframe\">\n  <thead>\n    <tr style=\"text-align: right;\">\n      <th></th>\n      <th>Age</th>\n      <th>RoomService</th>\n      <th>FoodCourt</th>\n      <th>ShoppingMall</th>\n      <th>Spa</th>\n      <th>VRDeck</th>\n    </tr>\n  </thead>\n  <tbody>\n    <tr>\n      <th>count</th>\n      <td>8693.00</td>\n      <td>8693.00</td>\n      <td>8693.00</td>\n      <td>8693.00</td>\n      <td>8693.00</td>\n      <td>8693.00</td>\n    </tr>\n    <tr>\n      <th>mean</th>\n      <td>28.83</td>\n      <td>224.69</td>\n      <td>458.08</td>\n      <td>173.73</td>\n      <td>311.14</td>\n      <td>304.85</td>\n    </tr>\n    <tr>\n      <th>std</th>\n      <td>14.34</td>\n      <td>659.74</td>\n      <td>1594.43</td>\n      <td>597.42</td>\n      <td>1124.68</td>\n      <td>1133.26</td>\n    </tr>\n    <tr>\n      <th>min</th>\n      <td>0.00</td>\n      <td>0.00</td>\n      <td>0.00</td>\n      <td>0.00</td>\n      <td>0.00</td>\n      <td>0.00</td>\n    </tr>\n    <tr>\n      <th>25%</th>\n      <td>20.00</td>\n      <td>0.00</td>\n      <td>0.00</td>\n      <td>0.00</td>\n      <td>0.00</td>\n      <td>0.00</td>\n    </tr>\n    <tr>\n      <th>50%</th>\n      <td>27.00</td>\n      <td>0.00</td>\n      <td>0.00</td>\n      <td>0.00</td>\n      <td>0.00</td>\n      <td>0.00</td>\n    </tr>\n    <tr>\n      <th>75%</th>\n      <td>37.00</td>\n      <td>78.00</td>\n      <td>118.00</td>\n      <td>45.00</td>\n      <td>89.00</td>\n      <td>71.00</td>\n    </tr>\n    <tr>\n      <th>max</th>\n      <td>79.00</td>\n      <td>14327.00</td>\n      <td>29813.00</td>\n      <td>23492.00</td>\n      <td>22408.00</td>\n      <td>24133.00</td>\n    </tr>\n  </tbody>\n</table>\n</div>"
     },
     "metadata": {}
    }
   ]
  },
  {
   "cell_type": "code",
   "source": [
    "train_data.describe(include=['O'])"
   ],
   "metadata": {
    "execution": {
     "iopub.status.busy": "2023-03-11T16:19:54.234362Z",
     "iopub.execute_input": "2023-03-11T16:19:54.234668Z",
     "iopub.status.idle": "2023-03-11T16:19:54.267889Z",
     "shell.execute_reply.started": "2023-03-11T16:19:54.234639Z",
     "shell.execute_reply": "2023-03-11T16:19:54.267012Z"
    },
    "trusted": true
   },
   "execution_count": 505,
   "outputs": [
    {
     "execution_count": 505,
     "output_type": "execute_result",
     "data": {
      "text/plain": "       PassengerId HomePlanet    Cabin  Destination            Name\ncount         8693       8693     8693         8693            8493\nunique        8693          3     6560            3            8473\ntop        0001_01      Earth  G/734/S  TRAPPIST-1e  Gollux Reedall\nfreq             1       4803      207         6097               2",
      "text/html": "<div>\n<style scoped>\n    .dataframe tbody tr th:only-of-type {\n        vertical-align: middle;\n    }\n\n    .dataframe tbody tr th {\n        vertical-align: top;\n    }\n\n    .dataframe thead th {\n        text-align: right;\n    }\n</style>\n<table border=\"1\" class=\"dataframe\">\n  <thead>\n    <tr style=\"text-align: right;\">\n      <th></th>\n      <th>PassengerId</th>\n      <th>HomePlanet</th>\n      <th>Cabin</th>\n      <th>Destination</th>\n      <th>Name</th>\n    </tr>\n  </thead>\n  <tbody>\n    <tr>\n      <th>count</th>\n      <td>8693</td>\n      <td>8693</td>\n      <td>8693</td>\n      <td>8693</td>\n      <td>8493</td>\n    </tr>\n    <tr>\n      <th>unique</th>\n      <td>8693</td>\n      <td>3</td>\n      <td>6560</td>\n      <td>3</td>\n      <td>8473</td>\n    </tr>\n    <tr>\n      <th>top</th>\n      <td>0001_01</td>\n      <td>Earth</td>\n      <td>G/734/S</td>\n      <td>TRAPPIST-1e</td>\n      <td>Gollux Reedall</td>\n    </tr>\n    <tr>\n      <th>freq</th>\n      <td>1</td>\n      <td>4803</td>\n      <td>207</td>\n      <td>6097</td>\n      <td>2</td>\n    </tr>\n  </tbody>\n</table>\n</div>"
     },
     "metadata": {}
    }
   ]
  },
  {
   "cell_type": "code",
   "source": [
    "plt.figure(figsize=(10,7))\n",
    "plt.subplot(2,2,1)\n",
    "train_data['HomePlanet'].value_counts().plot(kind='pie', title='HomePlanet')\n",
    "plt.subplot(2,2,2)\n",
    "train_data['HomePlanet'].value_counts().plot(kind='bar', title='HomePlanet')"
   ],
   "metadata": {
    "execution": {
     "iopub.status.busy": "2023-03-11T16:19:54.268967Z",
     "iopub.execute_input": "2023-03-11T16:19:54.269909Z",
     "iopub.status.idle": "2023-03-11T16:19:54.568355Z",
     "shell.execute_reply.started": "2023-03-11T16:19:54.269875Z",
     "shell.execute_reply": "2023-03-11T16:19:54.567483Z"
    },
    "trusted": true
   },
   "execution_count": 506,
   "outputs": [
    {
     "execution_count": 506,
     "output_type": "execute_result",
     "data": {
      "text/plain": "<AxesSubplot:title={'center':'HomePlanet'}>"
     },
     "metadata": {}
    },
    {
     "output_type": "display_data",
     "data": {
      "text/plain": "<Figure size 1000x700 with 2 Axes>",
      "image/png": "[encoded data removed]"
     },
     "metadata": {}
    }
   ]
  },
  {
   "cell_type": "code",
   "source": [
    "plt.figure(figsize=(10,7))\n",
    "plt.subplot(2,2,1)\n",
    "train_data['Destination'].value_counts().plot(kind='pie', title='Destination')\n",
    "plt.subplot(2,2,2)\n",
    "train_data['Destination'].value_counts().plot(kind='bar', title='Destination')"
   ],
   "metadata": {
    "execution": {
     "iopub.status.busy": "2023-03-11T16:19:54.569393Z",
     "iopub.execute_input": "2023-03-11T16:19:54.570325Z",
     "iopub.status.idle": "2023-03-11T16:19:54.889019Z",
     "shell.execute_reply.started": "2023-03-11T16:19:54.570291Z",
     "shell.execute_reply": "2023-03-11T16:19:54.887793Z"
    },
    "trusted": true
   },
   "execution_count": 507,
   "outputs": [
    {
     "execution_count": 507,
     "output_type": "execute_result",
     "data": {
      "text/plain": "<AxesSubplot:title={'center':'Destination'}>"
     },
     "metadata": {}
    },
    {
     "output_type": "display_data",
     "data": {
      "text/plain": "<Figure size 1000x700 with 2 Axes>",
      "image/png": "[encoded data removed]"
     },
     "metadata": {}
    }
   ]
  },
  {
   "cell_type": "code",
   "source": [
    "plt.figure(figsize=(10,7))\n",
    "plt.subplot(2,2,1)\n",
    "train_data['CryoSleep'].value_counts().plot(kind='pie', title='CryoSleep')\n",
    "plt.subplot(2,2,2)\n",
    "train_data['CryoSleep'].value_counts().plot(kind='bar', title='CryoSleep')"
   ],
   "metadata": {
    "execution": {
     "iopub.status.busy": "2023-03-11T16:19:54.890583Z",
     "iopub.execute_input": "2023-03-11T16:19:54.891373Z",
     "iopub.status.idle": "2023-03-11T16:19:55.186758Z",
     "shell.execute_reply.started": "2023-03-11T16:19:54.891320Z",
     "shell.execute_reply": "2023-03-11T16:19:55.185468Z"
    },
    "trusted": true
   },
   "execution_count": 508,
   "outputs": [
    {
     "execution_count": 508,
     "output_type": "execute_result",
     "data": {
      "text/plain": "<AxesSubplot:title={'center':'CryoSleep'}>"
     },
     "metadata": {}
    },
    {
     "output_type": "display_data",
     "data": {
      "text/plain": "<Figure size 1000x700 with 2 Axes>",
      "image/png": "[encoded data removed]"
     },
     "metadata": {}
    }
   ]
  },
  {
   "cell_type": "code",
   "source": [
    "plt.figure(figsize=(10,7))\n",
    "plt.subplot(2,2,1)\n",
    "train_data['VIP'].value_counts().plot(kind='pie', title='VIP')\n",
    "plt.subplot(2,2,2)\n",
    "train_data['VIP'].value_counts().plot(kind='bar', title='VIP')"
   ],
   "metadata": {
    "execution": {
     "iopub.status.busy": "2023-03-11T16:19:55.188423Z",
     "iopub.execute_input": "2023-03-11T16:19:55.189556Z",
     "iopub.status.idle": "2023-03-11T16:19:55.486941Z",
     "shell.execute_reply.started": "2023-03-11T16:19:55.189508Z",
     "shell.execute_reply": "2023-03-11T16:19:55.485439Z"
    },
    "trusted": true
   },
   "execution_count": 509,
   "outputs": [
    {
     "execution_count": 509,
     "output_type": "execute_result",
     "data": {
      "text/plain": "<AxesSubplot:title={'center':'VIP'}>"
     },
     "metadata": {}
    },
    {
     "output_type": "display_data",
     "data": {
      "text/plain": "<Figure size 1000x700 with 2 Axes>",
      "image/png": "[encoded data removed]"
     },
     "metadata": {}
    }
   ]
  },
  {
   "cell_type": "code",
   "source": [
    "!pip install lazypredict"
   ],
   "metadata": {
    "execution": {
     "iopub.status.busy": "2023-03-11T16:19:55.488485Z",
     "iopub.execute_input": "2023-03-11T16:19:55.488950Z",
     "iopub.status.idle": "2023-03-11T16:20:06.667046Z",
     "shell.execute_reply.started": "2023-03-11T16:19:55.488901Z",
     "shell.execute_reply": "2023-03-11T16:20:06.665741Z"
    },
    "trusted": true
   },
   "execution_count": 510,
   "outputs": [
    {
     "name": "stdout",
     "text": "Requirement already satisfied: lazypredict in /opt/conda/lib/python3.7/site-packages (0.2.12)\nRequirement already satisfied: xgboost in /opt/conda/lib/python3.7/site-packages (from lazypredict) (1.6.2)\nRequirement already satisfied: lightgbm in /opt/conda/lib/python3.7/site-packages (from lazypredict) (3.3.2)\nRequirement already satisfied: scikit-learn in /opt/conda/lib/python3.7/site-packages (from lazypredict) (1.0.2)\nRequirement already satisfied: click in /opt/conda/lib/python3.7/site-packages (from lazypredict) (8.1.3)\nRequirement already satisfied: joblib in /opt/conda/lib/python3.7/site-packages (from lazypredict) (1.2.0)\nRequirement already satisfied: pandas in /opt/conda/lib/python3.7/site-packages (from lazypredict) (1.3.5)\nRequirement already satisfied: tqdm in /opt/conda/lib/python3.7/site-packages (from lazypredict) (4.64.1)\nRequirement already satisfied: importlib-metadata in /opt/conda/lib/python3.7/site-packages (from click->lazypredict) (4.11.4)\nRequirement already satisfied: wheel in /opt/conda/lib/python3.7/site-packages (from lightgbm->lazypredict) (0.38.4)\nRequirement already satisfied: numpy in /opt/conda/lib/python3.7/site-packages (from lightgbm->lazypredict) (1.21.6)\nRequirement already satisfied: scipy in /opt/conda/lib/python3.7/site-packages (from lightgbm->lazypredict) (1.7.3)\nRequirement already satisfied: threadpoolctl>=2.0.0 in /opt/conda/lib/python3.7/site-packages (from scikit-learn->lazypredict) (3.1.0)\nRequirement already satisfied: pytz>=2017.3 in /opt/conda/lib/python3.7/site-packages (from pandas->lazypredict) (2022.7.1)\nRequirement already satisfied: python-dateutil>=2.7.3 in /opt/conda/lib/python3.7/site-packages (from pandas->lazypredict) (2.8.2)\nRequirement already satisfied: six>=1.5 in /opt/conda/lib/python3.7/site-packages (from python-dateutil>=2.7.3->pandas->lazypredict) (1.16.0)\nRequirement already satisfied: zipp>=0.5 in /opt/conda/lib/python3.7/site-packages (from importlib-metadata->click->lazypredict) (3.11.0)\nRequirement already satisfied: typing-extensions>=3.6.4 in /opt/conda/lib/python3.7/site-packages (from importlib-metadata->click->lazypredict) (4.4.0)\n\u001B[33mWARNING: Running pip as the 'root' user can result in broken permissions and conflicting behaviour with the system package manager. It is recommended to use a virtual environment instead: https://pip.pypa.io/warnings/venv\u001B[0m\u001B[33m\n\u001B[0m",
     "output_type": "stream"
    }
   ]
  },
  {
   "cell_type": "code",
   "source": [
    "import lazypredict\n",
    "from lazypredict.Supervised import LazyClassifier"
   ],
   "metadata": {
    "execution": {
     "iopub.status.busy": "2023-03-11T16:20:06.668666Z",
     "iopub.execute_input": "2023-03-11T16:20:06.669037Z",
     "iopub.status.idle": "2023-03-11T16:20:06.674985Z",
     "shell.execute_reply.started": "2023-03-11T16:20:06.669004Z",
     "shell.execute_reply": "2023-03-11T16:20:06.673669Z"
    },
    "trusted": true
   },
   "execution_count": 511,
   "outputs": []
  },
  {
   "cell_type": "code",
   "source": [
    "clf = LazyClassifier(verbose = 0,\n",
    "                     ignore_warnings = True,\n",
    "                     custom_metric = None,\n",
    "                     predictions = False,\n",
    "                     random_state = 12,\n",
    "                     classifiers = 'all')\n",
    "models, predictions = clf.fit(x_train, x_test, y_train, y_test)\n",
    "models"
   ],
   "metadata": {
    "execution": {
     "iopub.status.busy": "2023-03-11T16:20:06.676573Z",
     "iopub.execute_input": "2023-03-11T16:20:06.677028Z",
     "iopub.status.idle": "2023-03-11T16:20:22.615175Z",
     "shell.execute_reply.started": "2023-03-11T16:20:06.676971Z",
     "shell.execute_reply": "2023-03-11T16:20:22.613844Z"
    },
    "trusted": true
   },
   "execution_count": 512,
   "outputs": [
    {
     "name": "stderr",
     "text": "100%|██████████| 29/29 [00:15<00:00,  1.82it/s]\n",
     "output_type": "stream"
    },
    {
     "execution_count": 512,
     "output_type": "execute_result",
     "data": {
      "text/plain": "                               Accuracy  Balanced Accuracy  ROC AUC  F1 Score  \\\nModel                                                                           \nLGBMClassifier                     0.80               0.80     0.80      0.80   \nRandomForestClassifier             0.79               0.79     0.79      0.79   \nSVC                                0.79               0.79     0.79      0.79   \nAdaBoostClassifier                 0.79               0.79     0.79      0.79   \nNuSVC                              0.79               0.79     0.79      0.79   \nLogisticRegression                 0.79               0.79     0.79      0.79   \nLinearSVC                          0.79               0.79     0.79      0.79   \nCalibratedClassifierCV             0.79               0.79     0.79      0.79   \nXGBClassifier                      0.79               0.79     0.79      0.79   \nExtraTreesClassifier               0.79               0.79     0.79      0.79   \nSGDClassifier                      0.79               0.79     0.79      0.79   \nLabelPropagation                   0.78               0.79     0.79      0.78   \nLabelSpreading                     0.78               0.78     0.78      0.78   \nBaggingClassifier                  0.78               0.78     0.78      0.78   \nLinearDiscriminantAnalysis         0.77               0.77     0.77      0.77   \nRidgeClassifierCV                  0.77               0.77     0.77      0.77   \nRidgeClassifier                    0.77               0.77     0.77      0.77   \nKNeighborsClassifier               0.77               0.77     0.77      0.77   \nBernoulliNB                        0.76               0.76     0.76      0.76   \nNearestCentroid                    0.76               0.76     0.76      0.75   \nDecisionTreeClassifier             0.74               0.74     0.74      0.74   \nExtraTreeClassifier                0.74               0.74     0.74      0.74   \nPerceptron                         0.73               0.73     0.73      0.72   \nQuadraticDiscriminantAnalysis      0.69               0.69     0.69      0.67   \nGaussianNB                         0.68               0.69     0.69      0.66   \nPassiveAggressiveClassifier        0.64               0.65     0.65      0.60   \nDummyClassifier                    0.49               0.50     0.50      0.32   \n\n                               Time Taken  \nModel                                      \nLGBMClassifier                       0.50  \nRandomForestClassifier               0.92  \nSVC                                  1.86  \nAdaBoostClassifier                   0.30  \nNuSVC                                2.24  \nLogisticRegression                   0.11  \nLinearSVC                            0.52  \nCalibratedClassifierCV               2.02  \nXGBClassifier                        0.95  \nExtraTreesClassifier                 0.73  \nSGDClassifier                        0.13  \nLabelPropagation                     1.69  \nLabelSpreading                       2.61  \nBaggingClassifier                    0.20  \nLinearDiscriminantAnalysis           0.12  \nRidgeClassifierCV                    0.11  \nRidgeClassifier                      0.07  \nKNeighborsClassifier                 0.17  \nBernoulliNB                          0.02  \nNearestCentroid                      0.07  \nDecisionTreeClassifier               0.09  \nExtraTreeClassifier                  0.02  \nPerceptron                           0.10  \nQuadraticDiscriminantAnalysis        0.09  \nGaussianNB                           0.02  \nPassiveAggressiveClassifier          0.06  \nDummyClassifier                      0.02  ",
      "text/html": "<div>\n<style scoped>\n    .dataframe tbody tr th:only-of-type {\n        vertical-align: middle;\n    }\n\n    .dataframe tbody tr th {\n        vertical-align: top;\n    }\n\n    .dataframe thead th {\n        text-align: right;\n    }\n</style>\n<table border=\"1\" class=\"dataframe\">\n  <thead>\n    <tr style=\"text-align: right;\">\n      <th></th>\n      <th>Accuracy</th>\n      <th>Balanced Accuracy</th>\n      <th>ROC AUC</th>\n      <th>F1 Score</th>\n      <th>Time Taken</th>\n    </tr>\n    <tr>\n      <th>Model</th>\n      <th></th>\n      <th></th>\n      <th></th>\n      <th></th>\n      <th></th>\n    </tr>\n  </thead>\n  <tbody>\n    <tr>\n      <th>LGBMClassifier</th>\n      <td>0.80</td>\n      <td>0.80</td>\n      <td>0.80</td>\n      <td>0.80</td>\n      <td>0.50</td>\n    </tr>\n    <tr>\n      <th>RandomForestClassifier</th>\n      <td>0.79</td>\n      <td>0.79</td>\n      <td>0.79</td>\n      <td>0.79</td>\n      <td>0.92</td>\n    </tr>\n    <tr>\n      <th>SVC</th>\n      <td>0.79</td>\n      <td>0.79</td>\n      <td>0.79</td>\n      <td>0.79</td>\n      <td>1.86</td>\n    </tr>\n    <tr>\n      <th>AdaBoostClassifier</th>\n      <td>0.79</td>\n      <td>0.79</td>\n      <td>0.79</td>\n      <td>0.79</td>\n      <td>0.30</td>\n    </tr>\n    <tr>\n      <th>NuSVC</th>\n      <td>0.79</td>\n      <td>0.79</td>\n      <td>0.79</td>\n      <td>0.79</td>\n      <td>2.24</td>\n    </tr>\n    <tr>\n      <th>LogisticRegression</th>\n      <td>0.79</td>\n      <td>0.79</td>\n      <td>0.79</td>\n      <td>0.79</td>\n      <td>0.11</td>\n    </tr>\n    <tr>\n      <th>LinearSVC</th>\n      <td>0.79</td>\n      <td>0.79</td>\n      <td>0.79</td>\n      <td>0.79</td>\n      <td>0.52</td>\n    </tr>\n    <tr>\n      <th>CalibratedClassifierCV</th>\n      <td>0.79</td>\n      <td>0.79</td>\n      <td>0.79</td>\n      <td>0.79</td>\n      <td>2.02</td>\n    </tr>\n    <tr>\n      <th>XGBClassifier</th>\n      <td>0.79</td>\n      <td>0.79</td>\n      <td>0.79</td>\n      <td>0.79</td>\n      <td>0.95</td>\n    </tr>\n    <tr>\n      <th>ExtraTreesClassifier</th>\n      <td>0.79</td>\n      <td>0.79</td>\n      <td>0.79</td>\n      <td>0.79</td>\n      <td>0.73</td>\n    </tr>\n    <tr>\n      <th>SGDClassifier</th>\n      <td>0.79</td>\n      <td>0.79</td>\n      <td>0.79</td>\n      <td>0.79</td>\n      <td>0.13</td>\n    </tr>\n    <tr>\n      <th>LabelPropagation</th>\n      <td>0.78</td>\n      <td>0.79</td>\n      <td>0.79</td>\n      <td>0.78</td>\n      <td>1.69</td>\n    </tr>\n    <tr>\n      <th>LabelSpreading</th>\n      <td>0.78</td>\n      <td>0.78</td>\n      <td>0.78</td>\n      <td>0.78</td>\n      <td>2.61</td>\n    </tr>\n    <tr>\n      <th>BaggingClassifier</th>\n      <td>0.78</td>\n      <td>0.78</td>\n      <td>0.78</td>\n      <td>0.78</td>\n      <td>0.20</td>\n    </tr>\n    <tr>\n      <th>LinearDiscriminantAnalysis</th>\n      <td>0.77</td>\n      <td>0.77</td>\n      <td>0.77</td>\n      <td>0.77</td>\n      <td>0.12</td>\n    </tr>\n    <tr>\n      <th>RidgeClassifierCV</th>\n      <td>0.77</td>\n      <td>0.77</td>\n      <td>0.77</td>\n      <td>0.77</td>\n      <td>0.11</td>\n    </tr>\n    <tr>\n      <th>RidgeClassifier</th>\n      <td>0.77</td>\n      <td>0.77</td>\n      <td>0.77</td>\n      <td>0.77</td>\n      <td>0.07</td>\n    </tr>\n    <tr>\n      <th>KNeighborsClassifier</th>\n      <td>0.77</td>\n      <td>0.77</td>\n      <td>0.77</td>\n      <td>0.77</td>\n      <td>0.17</td>\n    </tr>\n    <tr>\n      <th>BernoulliNB</th>\n      <td>0.76</td>\n      <td>0.76</td>\n      <td>0.76</td>\n      <td>0.76</td>\n      <td>0.02</td>\n    </tr>\n    <tr>\n      <th>NearestCentroid</th>\n      <td>0.76</td>\n      <td>0.76</td>\n      <td>0.76</td>\n      <td>0.75</td>\n      <td>0.07</td>\n    </tr>\n    <tr>\n      <th>DecisionTreeClassifier</th>\n      <td>0.74</td>\n      <td>0.74</td>\n      <td>0.74</td>\n      <td>0.74</td>\n      <td>0.09</td>\n    </tr>\n    <tr>\n      <th>ExtraTreeClassifier</th>\n      <td>0.74</td>\n      <td>0.74</td>\n      <td>0.74</td>\n      <td>0.74</td>\n      <td>0.02</td>\n    </tr>\n    <tr>\n      <th>Perceptron</th>\n      <td>0.73</td>\n      <td>0.73</td>\n      <td>0.73</td>\n      <td>0.72</td>\n      <td>0.10</td>\n    </tr>\n    <tr>\n      <th>QuadraticDiscriminantAnalysis</th>\n      <td>0.69</td>\n      <td>0.69</td>\n      <td>0.69</td>\n      <td>0.67</td>\n      <td>0.09</td>\n    </tr>\n    <tr>\n      <th>GaussianNB</th>\n      <td>0.68</td>\n      <td>0.69</td>\n      <td>0.69</td>\n      <td>0.66</td>\n      <td>0.02</td>\n    </tr>\n    <tr>\n      <th>PassiveAggressiveClassifier</th>\n      <td>0.64</td>\n      <td>0.65</td>\n      <td>0.65</td>\n      <td>0.60</td>\n      <td>0.06</td>\n    </tr>\n    <tr>\n      <th>DummyClassifier</th>\n      <td>0.49</td>\n      <td>0.50</td>\n      <td>0.50</td>\n      <td>0.32</td>\n      <td>0.02</td>\n    </tr>\n  </tbody>\n</table>\n</div>"
     },
     "metadata": {}
    }
   ]
  },
  {
   "cell_type": "markdown",
   "source": [
    "### We can see from the above graph that the LGBMClassifier has the best scores compared to other models."
   ],
   "metadata": {}
  },
  {
   "cell_type": "markdown",
   "source": [
    "***\n",
    "# 3. MODELLING\n",
    "***"
   ],
   "metadata": {}
  },
  {
   "cell_type": "code",
   "source": [
    "# Pre-Processing\n",
    "import numpy as np\n",
    "from sklearn.impute import SimpleImputer\n",
    "from sklearn.preprocessing import StandardScaler\n",
    "\n",
    "def preProcess(x, imputingNulls=True, scaling=True):\n",
    "    if imputingNulls:\n",
    "        imputer = SimpleImputer(missing_values=np.nan, strategy='mean')\n",
    "        x = imputer.fit_transform(x)\n",
    "    if scaling:\n",
    "        scaler = StandardScaler()\n",
    "        x = scaler.fit_transform(x)\n",
    "    return x"
   ],
   "metadata": {
    "execution": {
     "iopub.status.busy": "2023-03-11T16:20:22.616668Z",
     "iopub.execute_input": "2023-03-11T16:20:22.616976Z",
     "iopub.status.idle": "2023-03-11T16:20:22.624210Z",
     "shell.execute_reply.started": "2023-03-11T16:20:22.616946Z",
     "shell.execute_reply": "2023-03-11T16:20:22.622991Z"
    },
    "trusted": true
   },
   "execution_count": 513,
   "outputs": []
  },
  {
   "cell_type": "code",
   "source": [
    "# preprocess training data\n",
    "x_train = preProcess(x_train, imputingNulls=True)\n",
    "# preprocess test data\n",
    "x_test = preProcess(x_test, imputingNulls=True)\n",
    "# preprocess entire dataset\n",
    "x_preProcessed = preProcess(x, imputingNulls=True)"
   ],
   "metadata": {
    "execution": {
     "iopub.status.busy": "2023-03-11T16:20:22.625666Z",
     "iopub.execute_input": "2023-03-11T16:20:22.625954Z",
     "iopub.status.idle": "2023-03-11T16:20:22.650914Z",
     "shell.execute_reply.started": "2023-03-11T16:20:22.625925Z",
     "shell.execute_reply": "2023-03-11T16:20:22.649889Z"
    },
    "trusted": true
   },
   "execution_count": 514,
   "outputs": []
  },
  {
   "cell_type": "markdown",
   "source": [
    "***\n",
    "### Modelling"
   ],
   "metadata": {}
  },
  {
   "cell_type": "code",
   "source": [
    "from lightgbm import LGBMClassifier\n",
    "model = LGBMClassifier()"
   ],
   "metadata": {
    "execution": {
     "iopub.status.busy": "2023-03-11T16:20:22.652514Z",
     "iopub.execute_input": "2023-03-11T16:20:22.652826Z",
     "iopub.status.idle": "2023-03-11T16:20:22.658581Z",
     "shell.execute_reply.started": "2023-03-11T16:20:22.652797Z",
     "shell.execute_reply": "2023-03-11T16:20:22.657407Z"
    },
    "trusted": true
   },
   "execution_count": 515,
   "outputs": []
  },
  {
   "cell_type": "code",
   "source": [
    "model"
   ],
   "metadata": {
    "execution": {
     "iopub.status.busy": "2023-03-11T16:20:22.660127Z",
     "iopub.execute_input": "2023-03-11T16:20:22.660436Z",
     "iopub.status.idle": "2023-03-11T16:20:22.671181Z",
     "shell.execute_reply.started": "2023-03-11T16:20:22.660407Z",
     "shell.execute_reply": "2023-03-11T16:20:22.670106Z"
    },
    "trusted": true
   },
   "execution_count": 516,
   "outputs": [
    {
     "execution_count": 516,
     "output_type": "execute_result",
     "data": {
      "text/plain": "LGBMClassifier()"
     },
     "metadata": {}
    }
   ]
  },
  {
   "cell_type": "code",
   "source": [
    "model.fit(x_train, y_train)"
   ],
   "metadata": {
    "execution": {
     "iopub.status.busy": "2023-03-11T16:20:22.672729Z",
     "iopub.execute_input": "2023-03-11T16:20:22.673038Z",
     "iopub.status.idle": "2023-03-11T16:20:23.159860Z",
     "shell.execute_reply.started": "2023-03-11T16:20:22.673007Z",
     "shell.execute_reply": "2023-03-11T16:20:23.158752Z"
    },
    "trusted": true
   },
   "execution_count": 517,
   "outputs": [
    {
     "execution_count": 517,
     "output_type": "execute_result",
     "data": {
      "text/plain": "LGBMClassifier()"
     },
     "metadata": {}
    }
   ]
  },
  {
   "cell_type": "code",
   "source": [
    "model.score(x_test, y_test)"
   ],
   "metadata": {
    "execution": {
     "iopub.status.busy": "2023-03-11T16:20:23.161446Z",
     "iopub.execute_input": "2023-03-11T16:20:23.161790Z",
     "iopub.status.idle": "2023-03-11T16:20:23.182623Z",
     "shell.execute_reply.started": "2023-03-11T16:20:23.161757Z",
     "shell.execute_reply": "2023-03-11T16:20:23.181479Z"
    },
    "trusted": true
   },
   "execution_count": 518,
   "outputs": [
    {
     "execution_count": 518,
     "output_type": "execute_result",
     "data": {
      "text/plain": "0.8009969325153374"
     },
     "metadata": {}
    }
   ]
  },
  {
   "cell_type": "code",
   "source": [
    "y_pred =model.predict(x_test)"
   ],
   "metadata": {
    "execution": {
     "iopub.status.busy": "2023-03-11T16:20:23.184276Z",
     "iopub.execute_input": "2023-03-11T16:20:23.184633Z",
     "iopub.status.idle": "2023-03-11T16:20:23.201054Z",
     "shell.execute_reply.started": "2023-03-11T16:20:23.184578Z",
     "shell.execute_reply": "2023-03-11T16:20:23.200088Z"
    },
    "trusted": true
   },
   "execution_count": 519,
   "outputs": []
  },
  {
   "cell_type": "code",
   "source": [
    "test_data.head()"
   ],
   "metadata": {
    "execution": {
     "iopub.status.busy": "2023-03-11T16:20:23.202523Z",
     "iopub.execute_input": "2023-03-11T16:20:23.203164Z",
     "iopub.status.idle": "2023-03-11T16:20:23.219425Z",
     "shell.execute_reply.started": "2023-03-11T16:20:23.203128Z",
     "shell.execute_reply": "2023-03-11T16:20:23.218576Z"
    },
    "trusted": true
   },
   "execution_count": 520,
   "outputs": [
    {
     "execution_count": 520,
     "output_type": "execute_result",
     "data": {
      "text/plain": "  PassengerId HomePlanet CryoSleep  Cabin  Destination   Age    VIP  \\\n0     0013_01      Earth      True  G/3/S  TRAPPIST-1e 27.00  False   \n1     0018_01      Earth     False  F/4/S  TRAPPIST-1e 19.00  False   \n2     0019_01     Europa      True  C/0/S  55 Cancri e 31.00  False   \n3     0021_01     Europa     False  C/1/S  TRAPPIST-1e 38.00  False   \n4     0023_01      Earth     False  F/5/S  TRAPPIST-1e 20.00  False   \n\n   RoomService  FoodCourt  ShoppingMall     Spa  VRDeck              Name  \n0         0.00       0.00          0.00    0.00    0.00   Nelly Carsoning  \n1         0.00       9.00          0.00 2823.00    0.00    Lerome Peckers  \n2         0.00       0.00          0.00    0.00    0.00   Sabih Unhearfus  \n3         0.00    6652.00          0.00  181.00  585.00  Meratz Caltilter  \n4        10.00       0.00        635.00    0.00    0.00   Brence Harperez  ",
      "text/html": "<div>\n<style scoped>\n    .dataframe tbody tr th:only-of-type {\n        vertical-align: middle;\n    }\n\n    .dataframe tbody tr th {\n        vertical-align: top;\n    }\n\n    .dataframe thead th {\n        text-align: right;\n    }\n</style>\n<table border=\"1\" class=\"dataframe\">\n  <thead>\n    <tr style=\"text-align: right;\">\n      <th></th>\n      <th>PassengerId</th>\n      <th>HomePlanet</th>\n      <th>CryoSleep</th>\n      <th>Cabin</th>\n      <th>Destination</th>\n      <th>Age</th>\n      <th>VIP</th>\n      <th>RoomService</th>\n      <th>FoodCourt</th>\n      <th>ShoppingMall</th>\n      <th>Spa</th>\n      <th>VRDeck</th>\n      <th>Name</th>\n    </tr>\n  </thead>\n  <tbody>\n    <tr>\n      <th>0</th>\n      <td>0013_01</td>\n      <td>Earth</td>\n      <td>True</td>\n      <td>G/3/S</td>\n      <td>TRAPPIST-1e</td>\n      <td>27.00</td>\n      <td>False</td>\n      <td>0.00</td>\n      <td>0.00</td>\n      <td>0.00</td>\n      <td>0.00</td>\n      <td>0.00</td>\n      <td>Nelly Carsoning</td>\n    </tr>\n    <tr>\n      <th>1</th>\n      <td>0018_01</td>\n      <td>Earth</td>\n      <td>False</td>\n      <td>F/4/S</td>\n      <td>TRAPPIST-1e</td>\n      <td>19.00</td>\n      <td>False</td>\n      <td>0.00</td>\n      <td>9.00</td>\n      <td>0.00</td>\n      <td>2823.00</td>\n      <td>0.00</td>\n      <td>Lerome Peckers</td>\n    </tr>\n    <tr>\n      <th>2</th>\n      <td>0019_01</td>\n      <td>Europa</td>\n      <td>True</td>\n      <td>C/0/S</td>\n      <td>55 Cancri e</td>\n      <td>31.00</td>\n      <td>False</td>\n      <td>0.00</td>\n      <td>0.00</td>\n      <td>0.00</td>\n      <td>0.00</td>\n      <td>0.00</td>\n      <td>Sabih Unhearfus</td>\n    </tr>\n    <tr>\n      <th>3</th>\n      <td>0021_01</td>\n      <td>Europa</td>\n      <td>False</td>\n      <td>C/1/S</td>\n      <td>TRAPPIST-1e</td>\n      <td>38.00</td>\n      <td>False</td>\n      <td>0.00</td>\n      <td>6652.00</td>\n      <td>0.00</td>\n      <td>181.00</td>\n      <td>585.00</td>\n      <td>Meratz Caltilter</td>\n    </tr>\n    <tr>\n      <th>4</th>\n      <td>0023_01</td>\n      <td>Earth</td>\n      <td>False</td>\n      <td>F/5/S</td>\n      <td>TRAPPIST-1e</td>\n      <td>20.00</td>\n      <td>False</td>\n      <td>10.00</td>\n      <td>0.00</td>\n      <td>635.00</td>\n      <td>0.00</td>\n      <td>0.00</td>\n      <td>Brence Harperez</td>\n    </tr>\n  </tbody>\n</table>\n</div>"
     },
     "metadata": {}
    }
   ]
  },
  {
   "cell_type": "code",
   "source": [
    "submission = pd.DataFrame()"
   ],
   "metadata": {
    "execution": {
     "iopub.status.busy": "2023-03-11T16:20:23.220926Z",
     "iopub.execute_input": "2023-03-11T16:20:23.221540Z",
     "iopub.status.idle": "2023-03-11T16:20:23.226077Z",
     "shell.execute_reply.started": "2023-03-11T16:20:23.221504Z",
     "shell.execute_reply": "2023-03-11T16:20:23.225151Z"
    },
    "trusted": true
   },
   "execution_count": 521,
   "outputs": []
  },
  {
   "cell_type": "code",
   "source": [
    "submission[\"PassengerId\"] = test_data[\"PassengerId\"]"
   ],
   "metadata": {
    "execution": {
     "iopub.status.busy": "2023-03-11T16:20:23.227476Z",
     "iopub.execute_input": "2023-03-11T16:20:23.227831Z",
     "iopub.status.idle": "2023-03-11T16:20:23.239397Z",
     "shell.execute_reply.started": "2023-03-11T16:20:23.227799Z",
     "shell.execute_reply": "2023-03-11T16:20:23.238579Z"
    },
    "trusted": true
   },
   "execution_count": 522,
   "outputs": []
  },
  {
   "cell_type": "code",
   "source": [
    "submission\n"
   ],
   "metadata": {
    "execution": {
     "iopub.status.busy": "2023-03-11T16:20:23.240698Z",
     "iopub.execute_input": "2023-03-11T16:20:23.241021Z",
     "iopub.status.idle": "2023-03-11T16:20:23.258362Z",
     "shell.execute_reply.started": "2023-03-11T16:20:23.240990Z",
     "shell.execute_reply": "2023-03-11T16:20:23.257522Z"
    },
    "trusted": true
   },
   "execution_count": 523,
   "outputs": [
    {
     "execution_count": 523,
     "output_type": "execute_result",
     "data": {
      "text/plain": "     PassengerId\n0        0013_01\n1        0018_01\n2        0019_01\n3        0021_01\n4        0023_01\n...          ...\n4272     9266_02\n4273     9269_01\n4274     9271_01\n4275     9273_01\n4276     9277_01\n\n[4277 rows x 1 columns]",
      "text/html": "<div>\n<style scoped>\n    .dataframe tbody tr th:only-of-type {\n        vertical-align: middle;\n    }\n\n    .dataframe tbody tr th {\n        vertical-align: top;\n    }\n\n    .dataframe thead th {\n        text-align: right;\n    }\n</style>\n<table border=\"1\" class=\"dataframe\">\n  <thead>\n    <tr style=\"text-align: right;\">\n      <th></th>\n      <th>PassengerId</th>\n    </tr>\n  </thead>\n  <tbody>\n    <tr>\n      <th>0</th>\n      <td>0013_01</td>\n    </tr>\n    <tr>\n      <th>1</th>\n      <td>0018_01</td>\n    </tr>\n    <tr>\n      <th>2</th>\n      <td>0019_01</td>\n    </tr>\n    <tr>\n      <th>3</th>\n      <td>0021_01</td>\n    </tr>\n    <tr>\n      <th>4</th>\n      <td>0023_01</td>\n    </tr>\n    <tr>\n      <th>...</th>\n      <td>...</td>\n    </tr>\n    <tr>\n      <th>4272</th>\n      <td>9266_02</td>\n    </tr>\n    <tr>\n      <th>4273</th>\n      <td>9269_01</td>\n    </tr>\n    <tr>\n      <th>4274</th>\n      <td>9271_01</td>\n    </tr>\n    <tr>\n      <th>4275</th>\n      <td>9273_01</td>\n    </tr>\n    <tr>\n      <th>4276</th>\n      <td>9277_01</td>\n    </tr>\n  </tbody>\n</table>\n<p>4277 rows × 1 columns</p>\n</div>"
     },
     "metadata": {}
    }
   ]
  },
  {
   "cell_type": "code",
   "source": [
    "test_data.isnull().sum()"
   ],
   "metadata": {
    "execution": {
     "iopub.status.busy": "2023-03-11T16:20:23.259634Z",
     "iopub.execute_input": "2023-03-11T16:20:23.259963Z",
     "iopub.status.idle": "2023-03-11T16:20:23.275934Z",
     "shell.execute_reply.started": "2023-03-11T16:20:23.259931Z",
     "shell.execute_reply": "2023-03-11T16:20:23.274711Z"
    },
    "trusted": true
   },
   "execution_count": 524,
   "outputs": [
    {
     "execution_count": 524,
     "output_type": "execute_result",
     "data": {
      "text/plain": "PassengerId       0\nHomePlanet       87\nCryoSleep        93\nCabin           100\nDestination      92\nAge              91\nVIP              93\nRoomService      82\nFoodCourt       106\nShoppingMall     98\nSpa             101\nVRDeck           80\nName             94\ndtype: int64"
     },
     "metadata": {}
    }
   ]
  },
  {
   "cell_type": "code",
   "source": [
    "col = list(test_data.columns)\n",
    "for i in col:\n",
    "    if test_data[i].dtype == \"float64\":\n",
    "        test_data[i] = test_data[i].fillna(test_data[i].mean())\n",
    "    else:\n",
    "        test_data[i] = test_data[i].fillna(test_data[i].mode()[0])"
   ],
   "metadata": {
    "execution": {
     "iopub.status.busy": "2023-03-11T16:20:23.277656Z",
     "iopub.execute_input": "2023-03-11T16:20:23.277961Z",
     "iopub.status.idle": "2023-03-11T16:20:23.301950Z",
     "shell.execute_reply.started": "2023-03-11T16:20:23.277933Z",
     "shell.execute_reply": "2023-03-11T16:20:23.300965Z"
    },
    "trusted": true
   },
   "execution_count": 525,
   "outputs": []
  },
  {
   "cell_type": "code",
   "source": [
    "test_data.isnull().sum()"
   ],
   "metadata": {
    "execution": {
     "iopub.status.busy": "2023-03-11T16:20:23.303324Z",
     "iopub.execute_input": "2023-03-11T16:20:23.304113Z",
     "iopub.status.idle": "2023-03-11T16:20:23.317684Z",
     "shell.execute_reply.started": "2023-03-11T16:20:23.304067Z",
     "shell.execute_reply": "2023-03-11T16:20:23.316470Z"
    },
    "trusted": true
   },
   "execution_count": 526,
   "outputs": [
    {
     "execution_count": 526,
     "output_type": "execute_result",
     "data": {
      "text/plain": "PassengerId     0\nHomePlanet      0\nCryoSleep       0\nCabin           0\nDestination     0\nAge             0\nVIP             0\nRoomService     0\nFoodCourt       0\nShoppingMall    0\nSpa             0\nVRDeck          0\nName            0\ndtype: int64"
     },
     "metadata": {}
    }
   ]
  },
  {
   "cell_type": "markdown",
   "source": [
    "deleting features that are not useful and doesn't change outcomes"
   ],
   "metadata": {}
  },
  {
   "cell_type": "code",
   "source": [
    "test_data = test_data.drop(columns = [\"PassengerId\",\"Cabin\",\"Destination\",\"Name\"])\n",
    "test_data.head()"
   ],
   "metadata": {
    "execution": {
     "iopub.status.busy": "2023-03-11T16:20:23.319493Z",
     "iopub.execute_input": "2023-03-11T16:20:23.320265Z",
     "iopub.status.idle": "2023-03-11T16:20:23.338010Z",
     "shell.execute_reply.started": "2023-03-11T16:20:23.320201Z",
     "shell.execute_reply": "2023-03-11T16:20:23.336670Z"
    },
    "trusted": true
   },
   "execution_count": 527,
   "outputs": [
    {
     "execution_count": 527,
     "output_type": "execute_result",
     "data": {
      "text/plain": "  HomePlanet  CryoSleep   Age    VIP  RoomService  FoodCourt  ShoppingMall  \\\n0      Earth       True 27.00  False         0.00       0.00          0.00   \n1      Earth      False 19.00  False         0.00       9.00          0.00   \n2     Europa       True 31.00  False         0.00       0.00          0.00   \n3     Europa      False 38.00  False         0.00    6652.00          0.00   \n4      Earth      False 20.00  False        10.00       0.00        635.00   \n\n      Spa  VRDeck  \n0    0.00    0.00  \n1 2823.00    0.00  \n2    0.00    0.00  \n3  181.00  585.00  \n4    0.00    0.00  ",
      "text/html": "<div>\n<style scoped>\n    .dataframe tbody tr th:only-of-type {\n        vertical-align: middle;\n    }\n\n    .dataframe tbody tr th {\n        vertical-align: top;\n    }\n\n    .dataframe thead th {\n        text-align: right;\n    }\n</style>\n<table border=\"1\" class=\"dataframe\">\n  <thead>\n    <tr style=\"text-align: right;\">\n      <th></th>\n      <th>HomePlanet</th>\n      <th>CryoSleep</th>\n      <th>Age</th>\n      <th>VIP</th>\n      <th>RoomService</th>\n      <th>FoodCourt</th>\n      <th>ShoppingMall</th>\n      <th>Spa</th>\n      <th>VRDeck</th>\n    </tr>\n  </thead>\n  <tbody>\n    <tr>\n      <th>0</th>\n      <td>Earth</td>\n      <td>True</td>\n      <td>27.00</td>\n      <td>False</td>\n      <td>0.00</td>\n      <td>0.00</td>\n      <td>0.00</td>\n      <td>0.00</td>\n      <td>0.00</td>\n    </tr>\n    <tr>\n      <th>1</th>\n      <td>Earth</td>\n      <td>False</td>\n      <td>19.00</td>\n      <td>False</td>\n      <td>0.00</td>\n      <td>9.00</td>\n      <td>0.00</td>\n      <td>2823.00</td>\n      <td>0.00</td>\n    </tr>\n    <tr>\n      <th>2</th>\n      <td>Europa</td>\n      <td>True</td>\n      <td>31.00</td>\n      <td>False</td>\n      <td>0.00</td>\n      <td>0.00</td>\n      <td>0.00</td>\n      <td>0.00</td>\n      <td>0.00</td>\n    </tr>\n    <tr>\n      <th>3</th>\n      <td>Europa</td>\n      <td>False</td>\n      <td>38.00</td>\n      <td>False</td>\n      <td>0.00</td>\n      <td>6652.00</td>\n      <td>0.00</td>\n      <td>181.00</td>\n      <td>585.00</td>\n    </tr>\n    <tr>\n      <th>4</th>\n      <td>Earth</td>\n      <td>False</td>\n      <td>20.00</td>\n      <td>False</td>\n      <td>10.00</td>\n      <td>0.00</td>\n      <td>635.00</td>\n      <td>0.00</td>\n      <td>0.00</td>\n    </tr>\n  </tbody>\n</table>\n</div>"
     },
     "metadata": {}
    }
   ]
  },
  {
   "cell_type": "code",
   "source": [
    "col = list(test_data.columns)"
   ],
   "metadata": {
    "execution": {
     "iopub.status.busy": "2023-03-11T16:20:23.340192Z",
     "iopub.execute_input": "2023-03-11T16:20:23.340661Z",
     "iopub.status.idle": "2023-03-11T16:20:23.348210Z",
     "shell.execute_reply.started": "2023-03-11T16:20:23.340612Z",
     "shell.execute_reply": "2023-03-11T16:20:23.347452Z"
    },
    "trusted": true
   },
   "execution_count": 528,
   "outputs": []
  },
  {
   "cell_type": "code",
   "source": [
    "from sklearn.preprocessing import LabelEncoder\n",
    "\n",
    "label_encoder = LabelEncoder()\n",
    "for i in col:\n",
    "    if test_data[i].dtype != \"int32\":\n",
    "        if test_data[i].dtype != \"float64\":\n",
    "            test_data[i] = label_encoder.fit_transform(test_data[i])\n",
    "\n",
    "test_data.head()"
   ],
   "metadata": {
    "execution": {
     "iopub.status.busy": "2023-03-11T16:20:23.349762Z",
     "iopub.execute_input": "2023-03-11T16:20:23.350433Z",
     "iopub.status.idle": "2023-03-11T16:20:23.372029Z",
     "shell.execute_reply.started": "2023-03-11T16:20:23.350390Z",
     "shell.execute_reply": "2023-03-11T16:20:23.370646Z"
    },
    "trusted": true
   },
   "execution_count": 529,
   "outputs": [
    {
     "execution_count": 529,
     "output_type": "execute_result",
     "data": {
      "text/plain": "   HomePlanet  CryoSleep   Age  VIP  RoomService  FoodCourt  ShoppingMall  \\\n0           0          1 27.00    0         0.00       0.00          0.00   \n1           0          0 19.00    0         0.00       9.00          0.00   \n2           1          1 31.00    0         0.00       0.00          0.00   \n3           1          0 38.00    0         0.00    6652.00          0.00   \n4           0          0 20.00    0        10.00       0.00        635.00   \n\n      Spa  VRDeck  \n0    0.00    0.00  \n1 2823.00    0.00  \n2    0.00    0.00  \n3  181.00  585.00  \n4    0.00    0.00  ",
      "text/html": "<div>\n<style scoped>\n    .dataframe tbody tr th:only-of-type {\n        vertical-align: middle;\n    }\n\n    .dataframe tbody tr th {\n        vertical-align: top;\n    }\n\n    .dataframe thead th {\n        text-align: right;\n    }\n</style>\n<table border=\"1\" class=\"dataframe\">\n  <thead>\n    <tr style=\"text-align: right;\">\n      <th></th>\n      <th>HomePlanet</th>\n      <th>CryoSleep</th>\n      <th>Age</th>\n      <th>VIP</th>\n      <th>RoomService</th>\n      <th>FoodCourt</th>\n      <th>ShoppingMall</th>\n      <th>Spa</th>\n      <th>VRDeck</th>\n    </tr>\n  </thead>\n  <tbody>\n    <tr>\n      <th>0</th>\n      <td>0</td>\n      <td>1</td>\n      <td>27.00</td>\n      <td>0</td>\n      <td>0.00</td>\n      <td>0.00</td>\n      <td>0.00</td>\n      <td>0.00</td>\n      <td>0.00</td>\n    </tr>\n    <tr>\n      <th>1</th>\n      <td>0</td>\n      <td>0</td>\n      <td>19.00</td>\n      <td>0</td>\n      <td>0.00</td>\n      <td>9.00</td>\n      <td>0.00</td>\n      <td>2823.00</td>\n      <td>0.00</td>\n    </tr>\n    <tr>\n      <th>2</th>\n      <td>1</td>\n      <td>1</td>\n      <td>31.00</td>\n      <td>0</td>\n      <td>0.00</td>\n      <td>0.00</td>\n      <td>0.00</td>\n      <td>0.00</td>\n      <td>0.00</td>\n    </tr>\n    <tr>\n      <th>3</th>\n      <td>1</td>\n      <td>0</td>\n      <td>38.00</td>\n      <td>0</td>\n      <td>0.00</td>\n      <td>6652.00</td>\n      <td>0.00</td>\n      <td>181.00</td>\n      <td>585.00</td>\n    </tr>\n    <tr>\n      <th>4</th>\n      <td>0</td>\n      <td>0</td>\n      <td>20.00</td>\n      <td>0</td>\n      <td>10.00</td>\n      <td>0.00</td>\n      <td>635.00</td>\n      <td>0.00</td>\n      <td>0.00</td>\n    </tr>\n  </tbody>\n</table>\n</div>"
     },
     "metadata": {}
    }
   ]
  },
  {
   "cell_type": "markdown",
   "source": [
    "### Pre-Processing training data"
   ],
   "metadata": {}
  },
  {
   "cell_type": "code",
   "source": [
    "x_test = preProcess(test_data, imputingNulls=True)"
   ],
   "metadata": {
    "execution": {
     "iopub.status.busy": "2023-03-11T16:20:23.373605Z",
     "iopub.execute_input": "2023-03-11T16:20:23.374302Z",
     "iopub.status.idle": "2023-03-11T16:20:23.386533Z",
     "shell.execute_reply.started": "2023-03-11T16:20:23.374260Z",
     "shell.execute_reply": "2023-03-11T16:20:23.385495Z"
    },
    "trusted": true
   },
   "execution_count": 530,
   "outputs": []
  },
  {
   "cell_type": "code",
   "source": [
    "y_pred = model.predict(x_test)"
   ],
   "metadata": {
    "execution": {
     "iopub.status.busy": "2023-03-11T16:20:23.387820Z",
     "iopub.execute_input": "2023-03-11T16:20:23.388406Z",
     "iopub.status.idle": "2023-03-11T16:20:23.404232Z",
     "shell.execute_reply.started": "2023-03-11T16:20:23.388362Z",
     "shell.execute_reply": "2023-03-11T16:20:23.403025Z"
    },
    "trusted": true
   },
   "execution_count": 531,
   "outputs": []
  },
  {
   "cell_type": "code",
   "source": [
    "submission[\"Transported\"] = y_pred"
   ],
   "metadata": {
    "execution": {
     "iopub.status.busy": "2023-03-11T16:20:23.405790Z",
     "iopub.execute_input": "2023-03-11T16:20:23.406907Z",
     "iopub.status.idle": "2023-03-11T16:20:23.413230Z",
     "shell.execute_reply.started": "2023-03-11T16:20:23.406863Z",
     "shell.execute_reply": "2023-03-11T16:20:23.412020Z"
    },
    "trusted": true
   },
   "execution_count": 532,
   "outputs": []
  },
  {
   "cell_type": "markdown",
   "source": [
    "***\n",
    "# PREDICTION"
   ],
   "metadata": {}
  },
  {
   "cell_type": "code",
   "source": [
    "# Converting our prediction to csv\n",
    "submission.to_csv(\"submission.csv\",index = None)"
   ],
   "metadata": {
    "execution": {
     "iopub.status.busy": "2023-03-11T16:20:23.414903Z",
     "iopub.execute_input": "2023-03-11T16:20:23.415697Z",
     "iopub.status.idle": "2023-03-11T16:20:23.430251Z",
     "shell.execute_reply.started": "2023-03-11T16:20:23.415648Z",
     "shell.execute_reply": "2023-03-11T16:20:23.429416Z"
    },
    "trusted": true
   },
   "execution_count": 533,
   "outputs": []
  },
  {
   "cell_type": "code",
   "source": [
    "pd.read_csv(\"submission.csv\")"
   ],
   "metadata": {
    "execution": {
     "iopub.status.busy": "2023-03-11T16:20:23.431639Z",
     "iopub.execute_input": "2023-03-11T16:20:23.432755Z",
     "iopub.status.idle": "2023-03-11T16:20:23.451728Z",
     "shell.execute_reply.started": "2023-03-11T16:20:23.432706Z",
     "shell.execute_reply": "2023-03-11T16:20:23.450547Z"
    },
    "trusted": true
   },
   "execution_count": 534,
   "outputs": [
    {
     "execution_count": 534,
     "output_type": "execute_result",
     "data": {
      "text/plain": "     PassengerId  Transported\n0        0013_01         True\n1        0018_01        False\n2        0019_01         True\n3        0021_01         True\n4        0023_01         True\n...          ...          ...\n4272     9266_02         True\n4273     9269_01        False\n4274     9271_01         True\n4275     9273_01         True\n4276     9277_01         True\n\n[4277 rows x 2 columns]",
      "text/html": "<div>\n<style scoped>\n    .dataframe tbody tr th:only-of-type {\n        vertical-align: middle;\n    }\n\n    .dataframe tbody tr th {\n        vertical-align: top;\n    }\n\n    .dataframe thead th {\n        text-align: right;\n    }\n</style>\n<table border=\"1\" class=\"dataframe\">\n  <thead>\n    <tr style=\"text-align: right;\">\n      <th></th>\n      <th>PassengerId</th>\n      <th>Transported</th>\n    </tr>\n  </thead>\n  <tbody>\n    <tr>\n      <th>0</th>\n      <td>0013_01</td>\n      <td>True</td>\n    </tr>\n    <tr>\n      <th>1</th>\n      <td>0018_01</td>\n      <td>False</td>\n    </tr>\n    <tr>\n      <th>2</th>\n      <td>0019_01</td>\n      <td>True</td>\n    </tr>\n    <tr>\n      <th>3</th>\n      <td>0021_01</td>\n      <td>True</td>\n    </tr>\n    <tr>\n      <th>4</th>\n      <td>0023_01</td>\n      <td>True</td>\n    </tr>\n    <tr>\n      <th>...</th>\n      <td>...</td>\n      <td>...</td>\n    </tr>\n    <tr>\n      <th>4272</th>\n      <td>9266_02</td>\n      <td>True</td>\n    </tr>\n    <tr>\n      <th>4273</th>\n      <td>9269_01</td>\n      <td>False</td>\n    </tr>\n    <tr>\n      <th>4274</th>\n      <td>9271_01</td>\n      <td>True</td>\n    </tr>\n    <tr>\n      <th>4275</th>\n      <td>9273_01</td>\n      <td>True</td>\n    </tr>\n    <tr>\n      <th>4276</th>\n      <td>9277_01</td>\n      <td>True</td>\n    </tr>\n  </tbody>\n</table>\n<p>4277 rows × 2 columns</p>\n</div>"
     },
     "metadata": {}
    }
   ]
  },
  {
   "cell_type": "code",
   "source": [
    "print(\"Successfully submitted predictions to submission.csv\")"
   ],
   "metadata": {
    "execution": {
     "iopub.status.busy": "2023-03-11T16:21:41.838484Z",
     "iopub.execute_input": "2023-03-11T16:21:41.839697Z",
     "iopub.status.idle": "2023-03-11T16:21:41.844481Z",
     "shell.execute_reply.started": "2023-03-11T16:21:41.839654Z",
     "shell.execute_reply": "2023-03-11T16:21:41.843305Z"
    },
    "trusted": true
   },
   "execution_count": 536,
   "outputs": [
    {
     "name": "stdout",
     "text": "Successfully submitted predictions to submission.csv\n",
     "output_type": "stream"
    }
   ]
  },
  {
   "cell_type": "code",
   "source": [],
   "metadata": {},
   "execution_count": null,
   "outputs": []
  }
 ]
}
